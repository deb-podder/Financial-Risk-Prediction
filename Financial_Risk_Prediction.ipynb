{
 "cells": [
  {
   "cell_type": "markdown",
   "metadata": {},
   "source": [
    "# Importing the Libraries"
   ]
  },
  {
   "cell_type": "code",
   "execution_count": 1,
   "metadata": {},
   "outputs": [],
   "source": [
    "import pandas as pd\n",
    "import numpy as np\n",
    "import matplotlib.pyplot as plt\n",
    "import seaborn as sns\n",
    "from sklearn.metrics import confusion_matrix, accuracy_score\n",
    "from sklearn.model_selection import cross_val_score\n",
    "from sklearn.model_selection import GridSearchCV\n",
    "import warnings\n",
    "warnings.filterwarnings('ignore')"
   ]
  },
  {
   "cell_type": "markdown",
   "metadata": {},
   "source": [
    "# Importing the Train Dataset"
   ]
  },
  {
   "cell_type": "code",
   "execution_count": 2,
   "metadata": {},
   "outputs": [],
   "source": [
    "fin_risk_train = pd.read_csv('Financial_Risk_Participants_Data_Train.csv')"
   ]
  },
  {
   "cell_type": "code",
   "execution_count": 3,
   "metadata": {},
   "outputs": [
    {
     "data": {
      "text/html": [
       "<div>\n",
       "<style scoped>\n",
       "    .dataframe tbody tr th:only-of-type {\n",
       "        vertical-align: middle;\n",
       "    }\n",
       "\n",
       "    .dataframe tbody tr th {\n",
       "        vertical-align: top;\n",
       "    }\n",
       "\n",
       "    .dataframe thead th {\n",
       "        text-align: right;\n",
       "    }\n",
       "</style>\n",
       "<table border=\"1\" class=\"dataframe\">\n",
       "  <thead>\n",
       "    <tr style=\"text-align: right;\">\n",
       "      <th></th>\n",
       "      <th>City</th>\n",
       "      <th>Location_Score</th>\n",
       "      <th>Internal_Audit_Score</th>\n",
       "      <th>External_Audit_Score</th>\n",
       "      <th>Fin_Score</th>\n",
       "      <th>Loss_score</th>\n",
       "      <th>Past_Results</th>\n",
       "      <th>IsUnderRisk</th>\n",
       "    </tr>\n",
       "  </thead>\n",
       "  <tbody>\n",
       "    <tr>\n",
       "      <td>0</td>\n",
       "      <td>2</td>\n",
       "      <td>8.032</td>\n",
       "      <td>14</td>\n",
       "      <td>8</td>\n",
       "      <td>3</td>\n",
       "      <td>6</td>\n",
       "      <td>0</td>\n",
       "      <td>1</td>\n",
       "    </tr>\n",
       "    <tr>\n",
       "      <td>1</td>\n",
       "      <td>31</td>\n",
       "      <td>77.730</td>\n",
       "      <td>8</td>\n",
       "      <td>3</td>\n",
       "      <td>3</td>\n",
       "      <td>8</td>\n",
       "      <td>1</td>\n",
       "      <td>0</td>\n",
       "    </tr>\n",
       "    <tr>\n",
       "      <td>2</td>\n",
       "      <td>40</td>\n",
       "      <td>59.203</td>\n",
       "      <td>3</td>\n",
       "      <td>12</td>\n",
       "      <td>11</td>\n",
       "      <td>3</td>\n",
       "      <td>0</td>\n",
       "      <td>1</td>\n",
       "    </tr>\n",
       "    <tr>\n",
       "      <td>3</td>\n",
       "      <td>12</td>\n",
       "      <td>73.080</td>\n",
       "      <td>4</td>\n",
       "      <td>5</td>\n",
       "      <td>7</td>\n",
       "      <td>6</td>\n",
       "      <td>0</td>\n",
       "      <td>0</td>\n",
       "    </tr>\n",
       "    <tr>\n",
       "      <td>4</td>\n",
       "      <td>4</td>\n",
       "      <td>15.666</td>\n",
       "      <td>13</td>\n",
       "      <td>15</td>\n",
       "      <td>6</td>\n",
       "      <td>7</td>\n",
       "      <td>2</td>\n",
       "      <td>1</td>\n",
       "    </tr>\n",
       "  </tbody>\n",
       "</table>\n",
       "</div>"
      ],
      "text/plain": [
       "   City  Location_Score  Internal_Audit_Score  External_Audit_Score  \\\n",
       "0     2           8.032                    14                     8   \n",
       "1    31          77.730                     8                     3   \n",
       "2    40          59.203                     3                    12   \n",
       "3    12          73.080                     4                     5   \n",
       "4     4          15.666                    13                    15   \n",
       "\n",
       "   Fin_Score  Loss_score  Past_Results  IsUnderRisk  \n",
       "0          3           6             0            1  \n",
       "1          3           8             1            0  \n",
       "2         11           3             0            1  \n",
       "3          7           6             0            0  \n",
       "4          6           7             2            1  "
      ]
     },
     "execution_count": 3,
     "metadata": {},
     "output_type": "execute_result"
    }
   ],
   "source": [
    "fin_risk_train.head()"
   ]
  },
  {
   "cell_type": "markdown",
   "metadata": {},
   "source": [
    "# Data Wrangling"
   ]
  },
  {
   "cell_type": "code",
   "execution_count": 4,
   "metadata": {},
   "outputs": [
    {
     "name": "stdout",
     "output_type": "stream",
     "text": [
      "<class 'pandas.core.frame.DataFrame'>\n",
      "RangeIndex: 543 entries, 0 to 542\n",
      "Data columns (total 8 columns):\n",
      "City                    543 non-null int64\n",
      "Location_Score          543 non-null float64\n",
      "Internal_Audit_Score    543 non-null int64\n",
      "External_Audit_Score    543 non-null int64\n",
      "Fin_Score               543 non-null int64\n",
      "Loss_score              543 non-null int64\n",
      "Past_Results            543 non-null int64\n",
      "IsUnderRisk             543 non-null int64\n",
      "dtypes: float64(1), int64(7)\n",
      "memory usage: 34.1 KB\n"
     ]
    }
   ],
   "source": [
    "fin_risk_train.info()"
   ]
  },
  {
   "cell_type": "code",
   "execution_count": 5,
   "metadata": {},
   "outputs": [
    {
     "data": {
      "text/plain": [
       "City                    0\n",
       "Location_Score          0\n",
       "Internal_Audit_Score    0\n",
       "External_Audit_Score    0\n",
       "Fin_Score               0\n",
       "Loss_score              0\n",
       "Past_Results            0\n",
       "IsUnderRisk             0\n",
       "dtype: int64"
      ]
     },
     "execution_count": 5,
     "metadata": {},
     "output_type": "execute_result"
    }
   ],
   "source": [
    "fin_risk_train.isnull().sum()"
   ]
  },
  {
   "cell_type": "code",
   "execution_count": 6,
   "metadata": {},
   "outputs": [
    {
     "data": {
      "text/plain": [
       "City                      int64\n",
       "Location_Score          float64\n",
       "Internal_Audit_Score      int64\n",
       "External_Audit_Score      int64\n",
       "Fin_Score                 int64\n",
       "Loss_score                int64\n",
       "Past_Results              int64\n",
       "IsUnderRisk               int64\n",
       "dtype: object"
      ]
     },
     "execution_count": 6,
     "metadata": {},
     "output_type": "execute_result"
    }
   ],
   "source": [
    "fin_risk_train.dtypes"
   ]
  },
  {
   "cell_type": "code",
   "execution_count": 7,
   "metadata": {},
   "outputs": [
    {
     "data": {
      "text/plain": [
       "(543, 8)"
      ]
     },
     "execution_count": 7,
     "metadata": {},
     "output_type": "execute_result"
    }
   ],
   "source": [
    "fin_risk_train.shape"
   ]
  },
  {
   "cell_type": "code",
   "execution_count": 8,
   "metadata": {},
   "outputs": [
    {
     "data": {
      "text/plain": [
       "Index(['City', 'Location_Score', 'Internal_Audit_Score',\n",
       "       'External_Audit_Score', 'Fin_Score', 'Loss_score', 'Past_Results',\n",
       "       'IsUnderRisk'],\n",
       "      dtype='object')"
      ]
     },
     "execution_count": 8,
     "metadata": {},
     "output_type": "execute_result"
    }
   ],
   "source": [
    "fin_risk_train.columns"
   ]
  },
  {
   "cell_type": "code",
   "execution_count": 9,
   "metadata": {},
   "outputs": [
    {
     "data": {
      "text/html": [
       "<div>\n",
       "<style scoped>\n",
       "    .dataframe tbody tr th:only-of-type {\n",
       "        vertical-align: middle;\n",
       "    }\n",
       "\n",
       "    .dataframe tbody tr th {\n",
       "        vertical-align: top;\n",
       "    }\n",
       "\n",
       "    .dataframe thead th {\n",
       "        text-align: right;\n",
       "    }\n",
       "</style>\n",
       "<table border=\"1\" class=\"dataframe\">\n",
       "  <thead>\n",
       "    <tr style=\"text-align: right;\">\n",
       "      <th></th>\n",
       "      <th>City</th>\n",
       "      <th>Location_Score</th>\n",
       "      <th>Internal_Audit_Score</th>\n",
       "      <th>External_Audit_Score</th>\n",
       "      <th>Fin_Score</th>\n",
       "      <th>Loss_score</th>\n",
       "      <th>Past_Results</th>\n",
       "      <th>IsUnderRisk</th>\n",
       "    </tr>\n",
       "  </thead>\n",
       "  <tbody>\n",
       "    <tr>\n",
       "      <td>count</td>\n",
       "      <td>543.000000</td>\n",
       "      <td>543.000000</td>\n",
       "      <td>543.000000</td>\n",
       "      <td>543.000000</td>\n",
       "      <td>543.000000</td>\n",
       "      <td>543.000000</td>\n",
       "      <td>543.000000</td>\n",
       "      <td>543.000000</td>\n",
       "    </tr>\n",
       "    <tr>\n",
       "      <td>mean</td>\n",
       "      <td>19.576427</td>\n",
       "      <td>32.259346</td>\n",
       "      <td>8.189687</td>\n",
       "      <td>7.327808</td>\n",
       "      <td>7.046041</td>\n",
       "      <td>5.530387</td>\n",
       "      <td>0.613260</td>\n",
       "      <td>0.626151</td>\n",
       "    </tr>\n",
       "    <tr>\n",
       "      <td>std</td>\n",
       "      <td>14.722687</td>\n",
       "      <td>24.887291</td>\n",
       "      <td>3.312022</td>\n",
       "      <td>3.450667</td>\n",
       "      <td>3.156978</td>\n",
       "      <td>1.839124</td>\n",
       "      <td>0.764509</td>\n",
       "      <td>0.484270</td>\n",
       "    </tr>\n",
       "    <tr>\n",
       "      <td>min</td>\n",
       "      <td>0.000000</td>\n",
       "      <td>5.185000</td>\n",
       "      <td>3.000000</td>\n",
       "      <td>3.000000</td>\n",
       "      <td>3.000000</td>\n",
       "      <td>3.000000</td>\n",
       "      <td>0.000000</td>\n",
       "      <td>0.000000</td>\n",
       "    </tr>\n",
       "    <tr>\n",
       "      <td>25%</td>\n",
       "      <td>6.000000</td>\n",
       "      <td>13.565000</td>\n",
       "      <td>6.000000</td>\n",
       "      <td>5.000000</td>\n",
       "      <td>5.000000</td>\n",
       "      <td>4.000000</td>\n",
       "      <td>0.000000</td>\n",
       "      <td>0.000000</td>\n",
       "    </tr>\n",
       "    <tr>\n",
       "      <td>50%</td>\n",
       "      <td>14.000000</td>\n",
       "      <td>19.803000</td>\n",
       "      <td>8.000000</td>\n",
       "      <td>7.000000</td>\n",
       "      <td>7.000000</td>\n",
       "      <td>6.000000</td>\n",
       "      <td>1.000000</td>\n",
       "      <td>1.000000</td>\n",
       "    </tr>\n",
       "    <tr>\n",
       "      <td>75%</td>\n",
       "      <td>37.000000</td>\n",
       "      <td>62.594000</td>\n",
       "      <td>11.000000</td>\n",
       "      <td>10.000000</td>\n",
       "      <td>8.000000</td>\n",
       "      <td>7.000000</td>\n",
       "      <td>1.000000</td>\n",
       "      <td>1.000000</td>\n",
       "    </tr>\n",
       "    <tr>\n",
       "      <td>max</td>\n",
       "      <td>44.000000</td>\n",
       "      <td>80.809000</td>\n",
       "      <td>15.000000</td>\n",
       "      <td>15.000000</td>\n",
       "      <td>15.000000</td>\n",
       "      <td>13.000000</td>\n",
       "      <td>10.000000</td>\n",
       "      <td>1.000000</td>\n",
       "    </tr>\n",
       "  </tbody>\n",
       "</table>\n",
       "</div>"
      ],
      "text/plain": [
       "             City  Location_Score  Internal_Audit_Score  External_Audit_Score  \\\n",
       "count  543.000000      543.000000            543.000000            543.000000   \n",
       "mean    19.576427       32.259346              8.189687              7.327808   \n",
       "std     14.722687       24.887291              3.312022              3.450667   \n",
       "min      0.000000        5.185000              3.000000              3.000000   \n",
       "25%      6.000000       13.565000              6.000000              5.000000   \n",
       "50%     14.000000       19.803000              8.000000              7.000000   \n",
       "75%     37.000000       62.594000             11.000000             10.000000   \n",
       "max     44.000000       80.809000             15.000000             15.000000   \n",
       "\n",
       "        Fin_Score  Loss_score  Past_Results  IsUnderRisk  \n",
       "count  543.000000  543.000000    543.000000   543.000000  \n",
       "mean     7.046041    5.530387      0.613260     0.626151  \n",
       "std      3.156978    1.839124      0.764509     0.484270  \n",
       "min      3.000000    3.000000      0.000000     0.000000  \n",
       "25%      5.000000    4.000000      0.000000     0.000000  \n",
       "50%      7.000000    6.000000      1.000000     1.000000  \n",
       "75%      8.000000    7.000000      1.000000     1.000000  \n",
       "max     15.000000   13.000000     10.000000     1.000000  "
      ]
     },
     "execution_count": 9,
     "metadata": {},
     "output_type": "execute_result"
    }
   ],
   "source": [
    "fin_risk_train.describe()"
   ]
  },
  {
   "cell_type": "markdown",
   "metadata": {},
   "source": [
    "## Correlation HeatMap"
   ]
  },
  {
   "cell_type": "code",
   "execution_count": 10,
   "metadata": {},
   "outputs": [
    {
     "data": {
      "text/html": [
       "<div>\n",
       "<style scoped>\n",
       "    .dataframe tbody tr th:only-of-type {\n",
       "        vertical-align: middle;\n",
       "    }\n",
       "\n",
       "    .dataframe tbody tr th {\n",
       "        vertical-align: top;\n",
       "    }\n",
       "\n",
       "    .dataframe thead th {\n",
       "        text-align: right;\n",
       "    }\n",
       "</style>\n",
       "<table border=\"1\" class=\"dataframe\">\n",
       "  <thead>\n",
       "    <tr style=\"text-align: right;\">\n",
       "      <th></th>\n",
       "      <th>City</th>\n",
       "      <th>Location_Score</th>\n",
       "      <th>Internal_Audit_Score</th>\n",
       "      <th>External_Audit_Score</th>\n",
       "      <th>Fin_Score</th>\n",
       "      <th>Loss_score</th>\n",
       "      <th>Past_Results</th>\n",
       "      <th>IsUnderRisk</th>\n",
       "    </tr>\n",
       "  </thead>\n",
       "  <tbody>\n",
       "    <tr>\n",
       "      <td>City</td>\n",
       "      <td>1.000000</td>\n",
       "      <td>0.012551</td>\n",
       "      <td>-0.024306</td>\n",
       "      <td>-0.049994</td>\n",
       "      <td>-0.051779</td>\n",
       "      <td>0.033183</td>\n",
       "      <td>0.004762</td>\n",
       "      <td>-0.087463</td>\n",
       "    </tr>\n",
       "    <tr>\n",
       "      <td>Location_Score</td>\n",
       "      <td>0.012551</td>\n",
       "      <td>1.000000</td>\n",
       "      <td>-0.358629</td>\n",
       "      <td>-0.205775</td>\n",
       "      <td>-0.264536</td>\n",
       "      <td>-0.042139</td>\n",
       "      <td>-0.074364</td>\n",
       "      <td>-0.423956</td>\n",
       "    </tr>\n",
       "    <tr>\n",
       "      <td>Internal_Audit_Score</td>\n",
       "      <td>-0.024306</td>\n",
       "      <td>-0.358629</td>\n",
       "      <td>1.000000</td>\n",
       "      <td>0.453839</td>\n",
       "      <td>0.365133</td>\n",
       "      <td>0.007685</td>\n",
       "      <td>0.112093</td>\n",
       "      <td>0.586097</td>\n",
       "    </tr>\n",
       "    <tr>\n",
       "      <td>External_Audit_Score</td>\n",
       "      <td>-0.049994</td>\n",
       "      <td>-0.205775</td>\n",
       "      <td>0.453839</td>\n",
       "      <td>1.000000</td>\n",
       "      <td>0.433374</td>\n",
       "      <td>-0.038786</td>\n",
       "      <td>0.141163</td>\n",
       "      <td>0.435619</td>\n",
       "    </tr>\n",
       "    <tr>\n",
       "      <td>Fin_Score</td>\n",
       "      <td>-0.051779</td>\n",
       "      <td>-0.264536</td>\n",
       "      <td>0.365133</td>\n",
       "      <td>0.433374</td>\n",
       "      <td>1.000000</td>\n",
       "      <td>-0.078573</td>\n",
       "      <td>0.138111</td>\n",
       "      <td>0.362463</td>\n",
       "    </tr>\n",
       "    <tr>\n",
       "      <td>Loss_score</td>\n",
       "      <td>0.033183</td>\n",
       "      <td>-0.042139</td>\n",
       "      <td>0.007685</td>\n",
       "      <td>-0.038786</td>\n",
       "      <td>-0.078573</td>\n",
       "      <td>1.000000</td>\n",
       "      <td>0.081858</td>\n",
       "      <td>0.044888</td>\n",
       "    </tr>\n",
       "    <tr>\n",
       "      <td>Past_Results</td>\n",
       "      <td>0.004762</td>\n",
       "      <td>-0.074364</td>\n",
       "      <td>0.112093</td>\n",
       "      <td>0.141163</td>\n",
       "      <td>0.138111</td>\n",
       "      <td>0.081858</td>\n",
       "      <td>1.000000</td>\n",
       "      <td>0.102120</td>\n",
       "    </tr>\n",
       "    <tr>\n",
       "      <td>IsUnderRisk</td>\n",
       "      <td>-0.087463</td>\n",
       "      <td>-0.423956</td>\n",
       "      <td>0.586097</td>\n",
       "      <td>0.435619</td>\n",
       "      <td>0.362463</td>\n",
       "      <td>0.044888</td>\n",
       "      <td>0.102120</td>\n",
       "      <td>1.000000</td>\n",
       "    </tr>\n",
       "  </tbody>\n",
       "</table>\n",
       "</div>"
      ],
      "text/plain": [
       "                          City  Location_Score  Internal_Audit_Score  \\\n",
       "City                  1.000000        0.012551             -0.024306   \n",
       "Location_Score        0.012551        1.000000             -0.358629   \n",
       "Internal_Audit_Score -0.024306       -0.358629              1.000000   \n",
       "External_Audit_Score -0.049994       -0.205775              0.453839   \n",
       "Fin_Score            -0.051779       -0.264536              0.365133   \n",
       "Loss_score            0.033183       -0.042139              0.007685   \n",
       "Past_Results          0.004762       -0.074364              0.112093   \n",
       "IsUnderRisk          -0.087463       -0.423956              0.586097   \n",
       "\n",
       "                      External_Audit_Score  Fin_Score  Loss_score  \\\n",
       "City                             -0.049994  -0.051779    0.033183   \n",
       "Location_Score                   -0.205775  -0.264536   -0.042139   \n",
       "Internal_Audit_Score              0.453839   0.365133    0.007685   \n",
       "External_Audit_Score              1.000000   0.433374   -0.038786   \n",
       "Fin_Score                         0.433374   1.000000   -0.078573   \n",
       "Loss_score                       -0.038786  -0.078573    1.000000   \n",
       "Past_Results                      0.141163   0.138111    0.081858   \n",
       "IsUnderRisk                       0.435619   0.362463    0.044888   \n",
       "\n",
       "                      Past_Results  IsUnderRisk  \n",
       "City                      0.004762    -0.087463  \n",
       "Location_Score           -0.074364    -0.423956  \n",
       "Internal_Audit_Score      0.112093     0.586097  \n",
       "External_Audit_Score      0.141163     0.435619  \n",
       "Fin_Score                 0.138111     0.362463  \n",
       "Loss_score                0.081858     0.044888  \n",
       "Past_Results              1.000000     0.102120  \n",
       "IsUnderRisk               0.102120     1.000000  "
      ]
     },
     "execution_count": 10,
     "metadata": {},
     "output_type": "execute_result"
    }
   ],
   "source": [
    "fin_risk_train_corr = fin_risk_train.corr()\n",
    "fin_risk_train_corr"
   ]
  },
  {
   "cell_type": "code",
   "execution_count": 11,
   "metadata": {},
   "outputs": [
    {
     "data": {
      "text/plain": [
       "(8.0, 0.0)"
      ]
     },
     "execution_count": 11,
     "metadata": {},
     "output_type": "execute_result"
    },
    {
     "data": {
      "image/png": "[encoded data removed]",
      "text/plain": [
       "<Figure size 1440x720 with 2 Axes>"
      ]
     },
     "metadata": {
      "needs_background": "light"
     },
     "output_type": "display_data"
    }
   ],
   "source": [
    "plt.figure(figsize=(20,10))\n",
    "ax = sns.heatmap(fin_risk_train_corr,annot=True, cmap='viridis', linecolor ='white', square=1, linewidths=3)\n",
    "plt.title('Correlation HeatMap')\n",
    "bottom, top = ax.get_ylim()\n",
    "ax.set_ylim(bottom + 0.5, top - 0.5)"
   ]
  },
  {
   "cell_type": "code",
   "execution_count": 12,
   "metadata": {},
   "outputs": [
    {
     "name": "stdout",
     "output_type": "stream",
     "text": [
      "Shape of X: (543, 7)\n",
      "Shape of y: (543,)\n"
     ]
    }
   ],
   "source": [
    "X = fin_risk_train.iloc[:, :-1].values\n",
    "y = fin_risk_train.iloc[:, -1].values\n",
    "print(\"Shape of X:\", X.shape)\n",
    "print(\"Shape of y:\", y.shape)"
   ]
  },
  {
   "cell_type": "markdown",
   "metadata": {},
   "source": [
    "# Splitting the dataset into the Training set and Test set"
   ]
  },
  {
   "cell_type": "code",
   "execution_count": 13,
   "metadata": {},
   "outputs": [],
   "source": [
    "from sklearn.model_selection import train_test_split\n",
    "X_train, X_test, y_train, y_test = train_test_split(X, y, test_size = 0.2, random_state = 100)"
   ]
  },
  {
   "cell_type": "code",
   "execution_count": 14,
   "metadata": {},
   "outputs": [
    {
     "data": {
      "text/plain": [
       "array([[42.   , 17.919,  3.   , ...,  4.   ,  8.   ,  0.   ],\n",
       "       [ 8.   , 22.09 , 12.   , ...,  7.   ,  5.   ,  1.   ],\n",
       "       [31.   , 77.73 ,  8.   , ...,  3.   ,  8.   ,  1.   ],\n",
       "       ...,\n",
       "       [31.   , 14.672, 11.   , ..., 11.   ,  5.   ,  0.   ],\n",
       "       [28.   , 17.085, 12.   , ...,  3.   ,  6.   ,  1.   ],\n",
       "       [40.   , 15.71 ,  3.   , ...,  6.   ,  5.   ,  0.   ]])"
      ]
     },
     "execution_count": 14,
     "metadata": {},
     "output_type": "execute_result"
    }
   ],
   "source": [
    "X_train"
   ]
  },
  {
   "cell_type": "markdown",
   "metadata": {},
   "source": [
    "# Feature Scaling of the Train Dataset"
   ]
  },
  {
   "cell_type": "code",
   "execution_count": 15,
   "metadata": {},
   "outputs": [],
   "source": [
    "from sklearn.preprocessing import StandardScaler\n",
    "sc = StandardScaler()\n",
    "X_train = sc.fit_transform(X_train)\n",
    "X_test = sc.transform(X_test)"
   ]
  },
  {
   "cell_type": "markdown",
   "metadata": {},
   "source": [
    "# Importing the Test Dataset"
   ]
  },
  {
   "cell_type": "code",
   "execution_count": 16,
   "metadata": {},
   "outputs": [],
   "source": [
    "fin_risk_test = pd.read_csv('Financial_Risk_Participants_Data_Test.csv')"
   ]
  },
  {
   "cell_type": "code",
   "execution_count": 17,
   "metadata": {},
   "outputs": [],
   "source": [
    "X_test_new = fin_risk_test.iloc[:, :].values"
   ]
  },
  {
   "cell_type": "code",
   "execution_count": 18,
   "metadata": {},
   "outputs": [
    {
     "data": {
      "text/plain": [
       "(233, 7)"
      ]
     },
     "execution_count": 18,
     "metadata": {},
     "output_type": "execute_result"
    }
   ],
   "source": [
    "X_test_new.shape"
   ]
  },
  {
   "cell_type": "markdown",
   "metadata": {},
   "source": [
    "# Feature Scaling of the Test Dataset"
   ]
  },
  {
   "cell_type": "code",
   "execution_count": 19,
   "metadata": {},
   "outputs": [],
   "source": [
    "X_test_new = sc.transform(X_test_new)"
   ]
  },
  {
   "cell_type": "code",
   "execution_count": 20,
   "metadata": {},
   "outputs": [
    {
     "data": {
      "text/plain": [
       "array([[ 1.44076297, -0.53937096,  1.43476947, ...,  0.60011355,\n",
       "         0.80493643, -0.79240582],\n",
       "       [-0.19558935,  1.35322535, -0.6925266 , ..., -0.03981097,\n",
       "        -0.80741316,  0.44022545],\n",
       "       [ 0.7589495 ,  1.5196365 , -1.60422492, ..., -0.03981097,\n",
       "         1.3423863 , -0.79240582],\n",
       "       ...,\n",
       "       [-1.1501282 , -1.00618453, -0.38862716, ..., -0.99969776,\n",
       "        -0.2699633 ,  0.44022545],\n",
       "       [-1.1501282 , -0.90851815,  1.43476947, ...,  0.92007581,\n",
       "         0.80493643,  0.44022545],\n",
       "       [ 1.44076297,  1.46638981, -0.6925266 , ..., -1.31966002,\n",
       "         0.26748657,  0.44022545]])"
      ]
     },
     "execution_count": 20,
     "metadata": {},
     "output_type": "execute_result"
    }
   ],
   "source": [
    "X_test_new"
   ]
  },
  {
   "cell_type": "markdown",
   "metadata": {},
   "source": [
    "# IMPLEMENTATION OF DIFFERENT CLASSIFIER MODELS"
   ]
  },
  {
   "cell_type": "markdown",
   "metadata": {},
   "source": [
    "## 1. Logistic Regression"
   ]
  },
  {
   "cell_type": "code",
   "execution_count": 21,
   "metadata": {},
   "outputs": [
    {
     "data": {
      "text/plain": [
       "LogisticRegression(C=1.0, class_weight=None, dual=False, fit_intercept=True,\n",
       "                   intercept_scaling=1, l1_ratio=None, max_iter=100,\n",
       "                   multi_class='warn', n_jobs=None, penalty='l2',\n",
       "                   random_state=0, solver='lbfgs', tol=0.0001, verbose=0,\n",
       "                   warm_start=False)"
      ]
     },
     "execution_count": 21,
     "metadata": {},
     "output_type": "execute_result"
    }
   ],
   "source": [
    "from sklearn.linear_model import LogisticRegression\n",
    "classifier_logis = LogisticRegression(random_state = 0, solver='lbfgs')\n",
    "classifier_logis.fit(X_train, y_train)"
   ]
  },
  {
   "cell_type": "code",
   "execution_count": 22,
   "metadata": {},
   "outputs": [
    {
     "name": "stdout",
     "output_type": "stream",
     "text": [
      "[[1 1]\n",
      " [0 0]\n",
      " [0 0]\n",
      " [0 1]\n",
      " [0 0]\n",
      " [1 1]\n",
      " [1 1]\n",
      " [1 1]\n",
      " [1 1]\n",
      " [0 0]\n",
      " [0 0]\n",
      " [0 0]\n",
      " [1 1]\n",
      " [0 0]\n",
      " [0 1]\n",
      " [1 0]\n",
      " [1 0]\n",
      " [0 0]\n",
      " [1 1]\n",
      " [0 0]\n",
      " [1 1]\n",
      " [1 1]\n",
      " [1 1]\n",
      " [1 1]\n",
      " [0 0]\n",
      " [0 0]\n",
      " [0 0]\n",
      " [1 1]\n",
      " [1 1]\n",
      " [1 0]\n",
      " [1 1]\n",
      " [1 1]\n",
      " [0 0]\n",
      " [0 1]\n",
      " [1 1]\n",
      " [0 0]\n",
      " [1 0]\n",
      " [0 1]\n",
      " [0 0]\n",
      " [0 0]\n",
      " [1 1]\n",
      " [0 0]\n",
      " [1 1]\n",
      " [1 1]\n",
      " [1 1]\n",
      " [0 1]\n",
      " [1 0]\n",
      " [0 0]\n",
      " [1 0]\n",
      " [0 0]\n",
      " [1 1]\n",
      " [1 1]\n",
      " [1 1]\n",
      " [0 1]\n",
      " [1 1]\n",
      " [0 1]\n",
      " [0 0]\n",
      " [1 1]\n",
      " [1 1]\n",
      " [1 1]\n",
      " [0 0]\n",
      " [1 1]\n",
      " [0 0]\n",
      " [1 1]\n",
      " [0 0]\n",
      " [0 0]\n",
      " [0 0]\n",
      " [1 1]\n",
      " [1 1]\n",
      " [0 0]\n",
      " [1 1]\n",
      " [1 1]\n",
      " [1 1]\n",
      " [0 1]\n",
      " [0 0]\n",
      " [1 1]\n",
      " [0 0]\n",
      " [1 0]\n",
      " [0 0]\n",
      " [1 1]\n",
      " [1 1]\n",
      " [1 1]\n",
      " [1 1]\n",
      " [0 0]\n",
      " [0 0]\n",
      " [1 1]\n",
      " [1 1]\n",
      " [1 1]\n",
      " [0 0]\n",
      " [1 1]\n",
      " [1 1]\n",
      " [1 1]\n",
      " [1 1]\n",
      " [1 1]\n",
      " [0 0]\n",
      " [0 0]\n",
      " [1 1]\n",
      " [1 1]\n",
      " [1 1]\n",
      " [0 0]\n",
      " [0 1]\n",
      " [1 1]\n",
      " [1 1]\n",
      " [0 0]\n",
      " [0 0]\n",
      " [1 1]\n",
      " [1 1]\n",
      " [1 0]\n",
      " [1 1]]\n"
     ]
    }
   ],
   "source": [
    "y_pred_logis = classifier_logis.predict(X_test)\n",
    "print(np.concatenate((y_pred_logis.reshape(len(y_pred_logis),1), y_test.reshape(len(y_test),1)),1))"
   ]
  },
  {
   "cell_type": "code",
   "execution_count": 23,
   "metadata": {},
   "outputs": [
    {
     "name": "stdout",
     "output_type": "stream",
     "text": [
      "[[2.03560672e-01 7.96439328e-01]\n",
      " [6.47784462e-01 3.52215538e-01]\n",
      " [8.96099921e-01 1.03900079e-01]\n",
      " [5.40979506e-01 4.59020494e-01]\n",
      " [7.14087963e-01 2.85912037e-01]\n",
      " [2.43194446e-01 7.56805554e-01]\n",
      " [1.33261919e-02 9.86673808e-01]\n",
      " [1.95618618e-01 8.04381382e-01]\n",
      " [2.27882027e-01 7.72117973e-01]\n",
      " [7.93174605e-01 2.06825395e-01]\n",
      " [8.69041979e-01 1.30958021e-01]\n",
      " [9.48237721e-01 5.17622785e-02]\n",
      " [1.29914026e-01 8.70085974e-01]\n",
      " [8.98853822e-01 1.01146178e-01]\n",
      " [7.59082163e-01 2.40917837e-01]\n",
      " [4.24649593e-01 5.75350407e-01]\n",
      " [4.26482143e-01 5.73517857e-01]\n",
      " [5.20598117e-01 4.79401883e-01]\n",
      " [1.86223016e-03 9.98137770e-01]\n",
      " [9.03881137e-01 9.61188629e-02]\n",
      " [3.25103479e-02 9.67489652e-01]\n",
      " [1.35839108e-01 8.64160892e-01]\n",
      " [1.95089510e-03 9.98049105e-01]\n",
      " [1.69138857e-01 8.30861143e-01]\n",
      " [8.47116944e-01 1.52883056e-01]\n",
      " [9.10754538e-01 8.92454624e-02]\n",
      " [6.91555466e-01 3.08444534e-01]\n",
      " [1.17608937e-01 8.82391063e-01]\n",
      " [8.04166580e-02 9.19583342e-01]\n",
      " [3.82403100e-01 6.17596900e-01]\n",
      " [7.58950658e-02 9.24104934e-01]\n",
      " [3.11260482e-02 9.68873952e-01]\n",
      " [8.92604922e-01 1.07395078e-01]\n",
      " [9.17295641e-01 8.27043594e-02]\n",
      " [4.60065997e-03 9.95399340e-01]\n",
      " [8.31907552e-01 1.68092448e-01]\n",
      " [2.56177580e-01 7.43822420e-01]\n",
      " [5.97856877e-01 4.02143123e-01]\n",
      " [7.75515111e-01 2.24484889e-01]\n",
      " [5.72714032e-01 4.27285968e-01]\n",
      " [1.72177922e-02 9.82782208e-01]\n",
      " [9.77417773e-01 2.25822273e-02]\n",
      " [1.86650081e-02 9.81334992e-01]\n",
      " [3.75428540e-01 6.24571460e-01]\n",
      " [1.38509057e-02 9.86149094e-01]\n",
      " [8.35501739e-01 1.64498261e-01]\n",
      " [4.55341995e-01 5.44658005e-01]\n",
      " [8.92369542e-01 1.07630458e-01]\n",
      " [4.47212514e-01 5.52787486e-01]\n",
      " [8.59674247e-01 1.40325753e-01]\n",
      " [2.21668184e-01 7.78331816e-01]\n",
      " [6.45259365e-03 9.93547406e-01]\n",
      " [3.51353023e-01 6.48646977e-01]\n",
      " [8.15928218e-01 1.84071782e-01]\n",
      " [1.97313928e-03 9.98026861e-01]\n",
      " [7.15356876e-01 2.84643124e-01]\n",
      " [8.27788104e-01 1.72211896e-01]\n",
      " [6.26956429e-03 9.93730436e-01]\n",
      " [3.59014092e-01 6.40985908e-01]\n",
      " [9.89457055e-03 9.90105429e-01]\n",
      " [9.12820579e-01 8.71794213e-02]\n",
      " [2.07142853e-01 7.92857147e-01]\n",
      " [6.15707946e-01 3.84292054e-01]\n",
      " [5.52209542e-02 9.44779046e-01]\n",
      " [8.99540781e-01 1.00459219e-01]\n",
      " [9.37702018e-01 6.22979815e-02]\n",
      " [5.50277766e-01 4.49722234e-01]\n",
      " [4.41318336e-01 5.58681664e-01]\n",
      " [1.94501110e-03 9.98054989e-01]\n",
      " [6.55887008e-01 3.44112992e-01]\n",
      " [8.63750768e-02 9.13624923e-01]\n",
      " [8.22725871e-03 9.91772741e-01]\n",
      " [4.74675207e-02 9.52532479e-01]\n",
      " [6.64283778e-01 3.35716222e-01]\n",
      " [5.30759311e-01 4.69240689e-01]\n",
      " [2.05919667e-01 7.94080333e-01]\n",
      " [9.70663006e-01 2.93369936e-02]\n",
      " [2.69655626e-01 7.30344374e-01]\n",
      " [5.89256714e-01 4.10743286e-01]\n",
      " [1.33411097e-03 9.98665889e-01]\n",
      " [2.29059277e-01 7.70940723e-01]\n",
      " [5.05120730e-02 9.49487927e-01]\n",
      " [4.04523890e-02 9.59547611e-01]\n",
      " [5.44105067e-01 4.55894933e-01]\n",
      " [5.23501029e-01 4.76498971e-01]\n",
      " [3.27636989e-01 6.72363011e-01]\n",
      " [1.13847722e-01 8.86152278e-01]\n",
      " [1.69382215e-01 8.30617785e-01]\n",
      " [9.39447869e-01 6.05521310e-02]\n",
      " [1.15353364e-03 9.98846466e-01]\n",
      " [5.41810911e-04 9.99458189e-01]\n",
      " [5.64742435e-04 9.99435258e-01]\n",
      " [3.02793091e-01 6.97206909e-01]\n",
      " [4.50361449e-01 5.49638551e-01]\n",
      " [7.70121081e-01 2.29878919e-01]\n",
      " [9.35555222e-01 6.44447782e-02]\n",
      " [5.32558409e-02 9.46744159e-01]\n",
      " [4.27424969e-03 9.95725750e-01]\n",
      " [7.26577181e-02 9.27342282e-01]\n",
      " [6.72854613e-01 3.27145387e-01]\n",
      " [7.78264898e-01 2.21735102e-01]\n",
      " [2.06337563e-02 9.79366244e-01]\n",
      " [2.55853450e-02 9.74414655e-01]\n",
      " [8.18753565e-01 1.81246435e-01]\n",
      " [9.46650145e-01 5.33498553e-02]\n",
      " [6.43404295e-02 9.35659571e-01]\n",
      " [1.13242232e-03 9.98867578e-01]\n",
      " [4.27955896e-01 5.72044104e-01]\n",
      " [3.86064480e-03 9.96139355e-01]]\n"
     ]
    }
   ],
   "source": [
    "y_prob_logis = classifier_logis.predict_proba(X_test)\n",
    "print(y_prob_logis)"
   ]
  },
  {
   "cell_type": "code",
   "execution_count": 24,
   "metadata": {},
   "outputs": [
    {
     "name": "stdout",
     "output_type": "stream",
     "text": [
      "[[37  8]\n",
      " [ 9 55]]\n"
     ]
    },
    {
     "data": {
      "text/plain": [
       "0.8440366972477065"
      ]
     },
     "execution_count": 24,
     "metadata": {},
     "output_type": "execute_result"
    }
   ],
   "source": [
    "conf_matrix_logis = confusion_matrix(y_test, y_pred_logis)\n",
    "print(conf_matrix_logis)\n",
    "accuracy_score(y_test, y_pred_logis)"
   ]
  },
  {
   "cell_type": "code",
   "execution_count": 25,
   "metadata": {},
   "outputs": [
    {
     "name": "stdout",
     "output_type": "stream",
     "text": [
      "Cross-validation scores: [0.78899083 0.81651376 0.85321101 0.86111111 0.74074074]\n",
      "Mean accuracy: 0.81\n",
      "Standard Deviation: 0.04\n"
     ]
    }
   ],
   "source": [
    "scores_logis = cross_val_score(classifier_logis, X, y, cv=5)\n",
    "print(\"Cross-validation scores: {}\" . format(scores_logis))\n",
    "print(\"Mean accuracy: {:.2f}\" . format(scores_logis.mean()))\n",
    "print(\"Standard Deviation: {:.2f}\" . format(scores_logis.std()))"
   ]
  },
  {
   "cell_type": "markdown",
   "metadata": {},
   "source": [
    "## 2. SVM"
   ]
  },
  {
   "cell_type": "code",
   "execution_count": 26,
   "metadata": {},
   "outputs": [
    {
     "name": "stdout",
     "output_type": "stream",
     "text": [
      "List of grids: \n",
      "[{'kernel': ['linear'], 'C': [0.001, 0.01, 0.1, 1, 10, 100]}]\n"
     ]
    }
   ],
   "source": [
    "param_grid = [{'kernel' : ['linear' ],\n",
    " 'C' : [0.001, 0.01, 0.1, 1, 10, 100]}]\n",
    "print(\"List of grids: \\n{}\" . format(param_grid))"
   ]
  },
  {
   "cell_type": "code",
   "execution_count": 27,
   "metadata": {},
   "outputs": [
    {
     "name": "stdout",
     "output_type": "stream",
     "text": [
      "Best parameters: {'C': 0.01, 'kernel': 'linear'}\n",
      "Best cross-validation score: 0.82\n"
     ]
    }
   ],
   "source": [
    "from sklearn.svm import SVC\n",
    "grid_search = GridSearchCV(SVC(), param_grid, cv=5)\n",
    "grid_search. fit(X, y)\n",
    "print(\"Best parameters: {}\" . format(grid_search. best_params_))\n",
    "print(\"Best cross-validation score: {:.2f}\" . format(grid_search. best_score_))"
   ]
  },
  {
   "cell_type": "code",
   "execution_count": 28,
   "metadata": {},
   "outputs": [
    {
     "data": {
      "text/plain": [
       "SVC(C=0.01, cache_size=200, class_weight=None, coef0=0.0,\n",
       "    decision_function_shape='ovr', degree=3, gamma='auto_deprecated',\n",
       "    kernel='linear', max_iter=-1, probability=True, random_state=0,\n",
       "    shrinking=True, tol=0.001, verbose=False)"
      ]
     },
     "execution_count": 28,
     "metadata": {},
     "output_type": "execute_result"
    }
   ],
   "source": [
    "classifier_svm = SVC(C=0.01, kernel = 'linear', random_state = 0, probability=True)\n",
    "classifier_svm.fit(X_train, y_train)"
   ]
  },
  {
   "cell_type": "code",
   "execution_count": 29,
   "metadata": {},
   "outputs": [
    {
     "name": "stdout",
     "output_type": "stream",
     "text": [
      "[[1 1]\n",
      " [0 0]\n",
      " [0 0]\n",
      " [0 1]\n",
      " [0 0]\n",
      " [1 1]\n",
      " [1 1]\n",
      " [1 1]\n",
      " [1 1]\n",
      " [0 0]\n",
      " [0 0]\n",
      " [0 0]\n",
      " [1 1]\n",
      " [0 0]\n",
      " [0 1]\n",
      " [1 0]\n",
      " [1 0]\n",
      " [1 0]\n",
      " [1 1]\n",
      " [0 0]\n",
      " [1 1]\n",
      " [1 1]\n",
      " [1 1]\n",
      " [1 1]\n",
      " [0 0]\n",
      " [0 0]\n",
      " [0 0]\n",
      " [1 1]\n",
      " [1 1]\n",
      " [0 0]\n",
      " [1 1]\n",
      " [1 1]\n",
      " [0 0]\n",
      " [0 1]\n",
      " [1 1]\n",
      " [0 0]\n",
      " [1 0]\n",
      " [1 1]\n",
      " [0 0]\n",
      " [1 0]\n",
      " [1 1]\n",
      " [0 0]\n",
      " [1 1]\n",
      " [1 1]\n",
      " [1 1]\n",
      " [0 1]\n",
      " [1 0]\n",
      " [0 0]\n",
      " [1 0]\n",
      " [0 0]\n",
      " [1 1]\n",
      " [1 1]\n",
      " [1 1]\n",
      " [0 1]\n",
      " [1 1]\n",
      " [0 1]\n",
      " [0 0]\n",
      " [1 1]\n",
      " [1 1]\n",
      " [1 1]\n",
      " [0 0]\n",
      " [1 1]\n",
      " [0 0]\n",
      " [1 1]\n",
      " [0 0]\n",
      " [0 0]\n",
      " [1 0]\n",
      " [1 1]\n",
      " [1 1]\n",
      " [0 0]\n",
      " [1 1]\n",
      " [1 1]\n",
      " [1 1]\n",
      " [0 1]\n",
      " [1 0]\n",
      " [1 1]\n",
      " [0 0]\n",
      " [1 0]\n",
      " [0 0]\n",
      " [1 1]\n",
      " [1 1]\n",
      " [1 1]\n",
      " [1 1]\n",
      " [1 0]\n",
      " [0 0]\n",
      " [1 1]\n",
      " [1 1]\n",
      " [1 1]\n",
      " [0 0]\n",
      " [1 1]\n",
      " [1 1]\n",
      " [1 1]\n",
      " [1 1]\n",
      " [0 1]\n",
      " [0 0]\n",
      " [0 0]\n",
      " [1 1]\n",
      " [1 1]\n",
      " [1 1]\n",
      " [0 0]\n",
      " [0 1]\n",
      " [1 1]\n",
      " [1 1]\n",
      " [0 0]\n",
      " [0 0]\n",
      " [1 1]\n",
      " [1 1]\n",
      " [1 0]\n",
      " [1 1]]\n"
     ]
    }
   ],
   "source": [
    "y_pred_svm = classifier_svm.predict(X_test)\n",
    "print(np.concatenate((y_pred_svm.reshape(len(y_pred_svm),1), y_test.reshape(len(y_test),1)),1))"
   ]
  },
  {
   "cell_type": "code",
   "execution_count": 30,
   "metadata": {},
   "outputs": [
    {
     "name": "stdout",
     "output_type": "stream",
     "text": [
      "[[1.95072200e-01 8.04927800e-01]\n",
      " [7.21154200e-01 2.78845800e-01]\n",
      " [8.85020306e-01 1.14979694e-01]\n",
      " [6.61776054e-01 3.38223946e-01]\n",
      " [5.48777269e-01 4.51222731e-01]\n",
      " [2.40861285e-01 7.59138715e-01]\n",
      " [7.07780371e-02 9.29221963e-01]\n",
      " [1.47153803e-01 8.52846197e-01]\n",
      " [1.96925876e-01 8.03074124e-01]\n",
      " [8.09392104e-01 1.90607896e-01]\n",
      " [8.89127282e-01 1.10872718e-01]\n",
      " [9.38498101e-01 6.15018991e-02]\n",
      " [2.56427823e-01 7.43572177e-01]\n",
      " [9.05803325e-01 9.41966753e-02]\n",
      " [5.62942689e-01 4.37057311e-01]\n",
      " [3.48319105e-01 6.51680895e-01]\n",
      " [3.01661706e-01 6.98338294e-01]\n",
      " [4.48987659e-01 5.51012341e-01]\n",
      " [5.56392866e-03 9.94436071e-01]\n",
      " [9.02516445e-01 9.74835549e-02]\n",
      " [6.13458570e-02 9.38654143e-01]\n",
      " [1.78907124e-01 8.21092876e-01]\n",
      " [6.34857356e-03 9.93651426e-01]\n",
      " [1.64700466e-01 8.35299534e-01]\n",
      " [8.51170319e-01 1.48829681e-01]\n",
      " [8.97304249e-01 1.02695751e-01]\n",
      " [7.84847843e-01 2.15152157e-01]\n",
      " [1.54832018e-01 8.45167982e-01]\n",
      " [1.14743325e-01 8.85256675e-01]\n",
      " [5.00000000e-01 5.00000000e-01]\n",
      " [6.47429912e-02 9.35257009e-01]\n",
      " [5.62540058e-02 9.43745994e-01]\n",
      " [8.88868469e-01 1.11131531e-01]\n",
      " [9.34884452e-01 6.51155485e-02]\n",
      " [1.04196867e-02 9.89580313e-01]\n",
      " [8.06947282e-01 1.93052718e-01]\n",
      " [1.95983598e-01 8.04016402e-01]\n",
      " [4.07449914e-01 5.92550086e-01]\n",
      " [6.24926041e-01 3.75073959e-01]\n",
      " [4.06485455e-01 5.93514545e-01]\n",
      " [4.28024256e-02 9.57197574e-01]\n",
      " [9.77386278e-01 2.26137221e-02]\n",
      " [3.97417650e-02 9.60258235e-01]\n",
      " [2.91103858e-01 7.08896142e-01]\n",
      " [2.45756323e-02 9.75424368e-01]\n",
      " [8.63921576e-01 1.36078424e-01]\n",
      " [3.43471894e-01 6.56528106e-01]\n",
      " [9.19613234e-01 8.03867661e-02]\n",
      " [4.09652552e-01 5.90347448e-01]\n",
      " [7.67533827e-01 2.32466173e-01]\n",
      " [4.76260508e-01 5.23739492e-01]\n",
      " [1.45157838e-02 9.85484216e-01]\n",
      " [2.86751563e-01 7.13248437e-01]\n",
      " [6.56418294e-01 3.43581706e-01]\n",
      " [7.80141041e-03 9.92198590e-01]\n",
      " [5.12071937e-01 4.87928063e-01]\n",
      " [8.88310604e-01 1.11689396e-01]\n",
      " [1.32472408e-02 9.86752759e-01]\n",
      " [3.11388731e-01 6.88611269e-01]\n",
      " [2.20357187e-02 9.77964281e-01]\n",
      " [9.14986031e-01 8.50139687e-02]\n",
      " [1.46250890e-01 8.53749110e-01]\n",
      " [6.79527366e-01 3.20472634e-01]\n",
      " [2.24848466e-01 7.75151534e-01]\n",
      " [8.79897503e-01 1.20102497e-01]\n",
      " [9.44592684e-01 5.54073159e-02]\n",
      " [4.49838673e-01 5.50161327e-01]\n",
      " [2.99698248e-01 7.00301752e-01]\n",
      " [8.48997952e-03 9.91510020e-01]\n",
      " [8.10515104e-01 1.89484896e-01]\n",
      " [3.15175087e-01 6.84824913e-01]\n",
      " [4.09151615e-02 9.59084839e-01]\n",
      " [5.92499481e-02 9.40750052e-01]\n",
      " [8.01784040e-01 1.98215960e-01]\n",
      " [4.08554760e-01 5.91445240e-01]\n",
      " [1.74255080e-01 8.25744920e-01]\n",
      " [9.50775496e-01 4.92245035e-02]\n",
      " [2.81718771e-01 7.18281229e-01]\n",
      " [7.44745940e-01 2.55254060e-01]\n",
      " [5.98029094e-03 9.94019709e-01]\n",
      " [2.30884962e-01 7.69115038e-01]\n",
      " [9.01161764e-02 9.09883824e-01]\n",
      " [5.81830447e-02 9.41816955e-01]\n",
      " [3.94357820e-01 6.05642180e-01]\n",
      " [6.95173859e-01 3.04826141e-01]\n",
      " [1.89209540e-01 8.10790460e-01]\n",
      " [1.12950094e-01 8.87049906e-01]\n",
      " [1.92217773e-01 8.07782227e-01]\n",
      " [9.47881595e-01 5.21184045e-02]\n",
      " [3.79240109e-03 9.96207599e-01]\n",
      " [2.78090543e-03 9.97219095e-01]\n",
      " [1.16509957e-05 9.99988349e-01]\n",
      " [3.01886842e-01 6.98113158e-01]\n",
      " [6.40238863e-01 3.59761137e-01]\n",
      " [6.45138815e-01 3.54861185e-01]\n",
      " [9.30771738e-01 6.92282617e-02]\n",
      " [9.04493121e-02 9.09550688e-01]\n",
      " [1.03138333e-02 9.89686167e-01]\n",
      " [9.55524688e-02 9.04447531e-01]\n",
      " [5.00000000e-01 5.00000000e-01]\n",
      " [7.84261102e-01 2.15738898e-01]\n",
      " [3.26617890e-02 9.67338211e-01]\n",
      " [4.16080947e-02 9.58391905e-01]\n",
      " [8.08337854e-01 1.91662146e-01]\n",
      " [9.38936692e-01 6.10633079e-02]\n",
      " [8.03233417e-02 9.19676658e-01]\n",
      " [3.87518945e-03 9.96124811e-01]\n",
      " [4.46733891e-01 5.53266109e-01]\n",
      " [1.03348868e-02 9.89665113e-01]]\n"
     ]
    }
   ],
   "source": [
    "y_prob_svm = classifier_svm.predict_proba(X_test)\n",
    "print(y_prob_svm)"
   ]
  },
  {
   "cell_type": "code",
   "execution_count": 31,
   "metadata": {},
   "outputs": [
    {
     "name": "stdout",
     "output_type": "stream",
     "text": [
      "[[33 12]\n",
      " [ 9 55]]\n"
     ]
    },
    {
     "data": {
      "text/plain": [
       "0.8073394495412844"
      ]
     },
     "execution_count": 31,
     "metadata": {},
     "output_type": "execute_result"
    }
   ],
   "source": [
    "conf_matrix_svm = confusion_matrix(y_test, y_pred_svm)\n",
    "print(conf_matrix_svm)\n",
    "accuracy_score(y_test, y_pred_svm)"
   ]
  },
  {
   "cell_type": "code",
   "execution_count": 32,
   "metadata": {},
   "outputs": [
    {
     "name": "stdout",
     "output_type": "stream",
     "text": [
      "Cross-validation scores: [0.79816514 0.85321101 0.8440367  0.85185185 0.76851852]\n",
      "Mean accuracy: 0.82\n",
      "Standard Deviation: 0.03\n"
     ]
    }
   ],
   "source": [
    "scores_svm = cross_val_score(classifier_svm, X, y, cv=5)\n",
    "print(\"Cross-validation scores: {}\" . format(scores_svm))\n",
    "print(\"Mean accuracy: {:.2f}\" . format(scores_svm.mean()))\n",
    "print(\"Standard Deviation: {:.2f}\" . format(scores_svm.std()))"
   ]
  },
  {
   "cell_type": "markdown",
   "metadata": {},
   "source": [
    "## 3. Kernel SVM"
   ]
  },
  {
   "cell_type": "code",
   "execution_count": 33,
   "metadata": {},
   "outputs": [
    {
     "name": "stdout",
     "output_type": "stream",
     "text": [
      "List of grids: \n",
      "[{'kernel': ['rbf'], 'C': [0.001, 0.01, 0.1, 1, 10, 100], 'gamma': [0.001, 0.01, 0.1, 1, 10, 100]}]\n"
     ]
    }
   ],
   "source": [
    "param_grid = [{'kernel' : ['rbf' ],\n",
    " 'C' : [0.001, 0.01, 0.1, 1, 10, 100],\n",
    " 'gamma' : [0.001, 0.01, 0.1, 1, 10, 100]}]\n",
    "print(\"List of grids: \\n{}\" . format(param_grid))"
   ]
  },
  {
   "cell_type": "code",
   "execution_count": 34,
   "metadata": {},
   "outputs": [
    {
     "name": "stdout",
     "output_type": "stream",
     "text": [
      "Best parameters: {'C': 100, 'gamma': 0.001, 'kernel': 'rbf'}\n",
      "Best cross-validation score: 0.84\n"
     ]
    }
   ],
   "source": [
    "from sklearn.svm import SVC\n",
    "grid_search = GridSearchCV(SVC(), param_grid, cv=5)\n",
    "grid_search. fit(X, y)\n",
    "print(\"Best parameters: {}\" . format(grid_search. best_params_))\n",
    "print(\"Best cross-validation score: {:.2f}\" . format(grid_search. best_score_))"
   ]
  },
  {
   "cell_type": "code",
   "execution_count": 35,
   "metadata": {},
   "outputs": [
    {
     "data": {
      "text/plain": [
       "SVC(C=100, cache_size=200, class_weight=None, coef0=0.0,\n",
       "    decision_function_shape='ovr', degree=3, gamma=0.001, kernel='rbf',\n",
       "    max_iter=-1, probability=True, random_state=0, shrinking=True, tol=0.001,\n",
       "    verbose=False)"
      ]
     },
     "execution_count": 35,
     "metadata": {},
     "output_type": "execute_result"
    }
   ],
   "source": [
    "classifier_ksvm = SVC(C=100, kernel = 'rbf', gamma=0.001, random_state = 0, probability=True)\n",
    "classifier_ksvm.fit(X_train, y_train)"
   ]
  },
  {
   "cell_type": "code",
   "execution_count": 36,
   "metadata": {},
   "outputs": [
    {
     "name": "stdout",
     "output_type": "stream",
     "text": [
      "[[1 1]\n",
      " [0 0]\n",
      " [0 0]\n",
      " [0 1]\n",
      " [0 0]\n",
      " [1 1]\n",
      " [1 1]\n",
      " [1 1]\n",
      " [1 1]\n",
      " [0 0]\n",
      " [0 0]\n",
      " [0 0]\n",
      " [1 1]\n",
      " [0 0]\n",
      " [0 1]\n",
      " [0 0]\n",
      " [1 0]\n",
      " [0 0]\n",
      " [1 1]\n",
      " [0 0]\n",
      " [1 1]\n",
      " [1 1]\n",
      " [1 1]\n",
      " [1 1]\n",
      " [0 0]\n",
      " [0 0]\n",
      " [0 0]\n",
      " [1 1]\n",
      " [1 1]\n",
      " [1 0]\n",
      " [1 1]\n",
      " [1 1]\n",
      " [0 0]\n",
      " [0 1]\n",
      " [1 1]\n",
      " [0 0]\n",
      " [1 0]\n",
      " [0 1]\n",
      " [0 0]\n",
      " [0 0]\n",
      " [1 1]\n",
      " [0 0]\n",
      " [1 1]\n",
      " [1 1]\n",
      " [1 1]\n",
      " [0 1]\n",
      " [1 0]\n",
      " [0 0]\n",
      " [0 0]\n",
      " [0 0]\n",
      " [1 1]\n",
      " [1 1]\n",
      " [1 1]\n",
      " [0 1]\n",
      " [1 1]\n",
      " [0 1]\n",
      " [0 0]\n",
      " [1 1]\n",
      " [1 1]\n",
      " [1 1]\n",
      " [0 0]\n",
      " [1 1]\n",
      " [0 0]\n",
      " [1 1]\n",
      " [0 0]\n",
      " [0 0]\n",
      " [0 0]\n",
      " [1 1]\n",
      " [1 1]\n",
      " [0 0]\n",
      " [1 1]\n",
      " [1 1]\n",
      " [1 1]\n",
      " [0 1]\n",
      " [0 0]\n",
      " [1 1]\n",
      " [0 0]\n",
      " [1 0]\n",
      " [0 0]\n",
      " [1 1]\n",
      " [1 1]\n",
      " [1 1]\n",
      " [1 1]\n",
      " [0 0]\n",
      " [0 0]\n",
      " [1 1]\n",
      " [1 1]\n",
      " [1 1]\n",
      " [0 0]\n",
      " [1 1]\n",
      " [1 1]\n",
      " [1 1]\n",
      " [1 1]\n",
      " [1 1]\n",
      " [0 0]\n",
      " [0 0]\n",
      " [1 1]\n",
      " [1 1]\n",
      " [1 1]\n",
      " [0 0]\n",
      " [0 1]\n",
      " [1 1]\n",
      " [1 1]\n",
      " [0 0]\n",
      " [0 0]\n",
      " [1 1]\n",
      " [1 1]\n",
      " [1 0]\n",
      " [1 1]]\n"
     ]
    }
   ],
   "source": [
    "y_pred_ksvm = classifier_ksvm.predict(X_test)\n",
    "print(np.concatenate((y_pred_ksvm.reshape(len(y_pred_ksvm),1), y_test.reshape(len(y_test),1)),1))"
   ]
  },
  {
   "cell_type": "code",
   "execution_count": 37,
   "metadata": {},
   "outputs": [
    {
     "name": "stdout",
     "output_type": "stream",
     "text": [
      "[[2.01990157e-01 7.98009843e-01]\n",
      " [6.72565895e-01 3.27434105e-01]\n",
      " [8.93461666e-01 1.06538334e-01]\n",
      " [5.69008824e-01 4.30991176e-01]\n",
      " [6.70942565e-01 3.29057435e-01]\n",
      " [2.58140966e-01 7.41859034e-01]\n",
      " [1.67133041e-02 9.83286696e-01]\n",
      " [1.85885363e-01 8.14114637e-01]\n",
      " [1.99060054e-01 8.00939946e-01]\n",
      " [7.74463866e-01 2.25536134e-01]\n",
      " [8.68353898e-01 1.31646102e-01]\n",
      " [9.39626017e-01 6.03739829e-02]\n",
      " [1.55199286e-01 8.44800714e-01]\n",
      " [8.96351836e-01 1.03648164e-01]\n",
      " [7.59895279e-01 2.40104721e-01]\n",
      " [4.62149086e-01 5.37850914e-01]\n",
      " [4.31139746e-01 5.68860254e-01]\n",
      " [5.60041065e-01 4.39958935e-01]\n",
      " [1.76687007e-05 9.99982331e-01]\n",
      " [8.84662969e-01 1.15337031e-01]\n",
      " [3.35721515e-02 9.66427849e-01]\n",
      " [1.70682030e-01 8.29317970e-01]\n",
      " [3.02016407e-03 9.96979836e-01]\n",
      " [1.53847819e-01 8.46152181e-01]\n",
      " [8.28189858e-01 1.71810142e-01]\n",
      " [9.05198518e-01 9.48014824e-02]\n",
      " [6.63307671e-01 3.36692329e-01]\n",
      " [1.18524499e-01 8.81475501e-01]\n",
      " [9.89691736e-02 9.01030826e-01]\n",
      " [3.94229586e-01 6.05770414e-01]\n",
      " [7.85490774e-02 9.21450923e-01]\n",
      " [4.15684358e-02 9.58431564e-01]\n",
      " [8.88125705e-01 1.11874295e-01]\n",
      " [9.17800494e-01 8.21995058e-02]\n",
      " [5.62754504e-03 9.94372455e-01]\n",
      " [8.28542562e-01 1.71457438e-01]\n",
      " [2.60179005e-01 7.39820995e-01]\n",
      " [5.92894954e-01 4.07105046e-01]\n",
      " [7.49234608e-01 2.50765392e-01]\n",
      " [5.48212050e-01 4.51787950e-01]\n",
      " [2.11830142e-02 9.78816986e-01]\n",
      " [9.73493788e-01 2.65062117e-02]\n",
      " [2.14574223e-02 9.78542578e-01]\n",
      " [3.26932116e-01 6.73067884e-01]\n",
      " [1.69968558e-02 9.83003144e-01]\n",
      " [8.21483249e-01 1.78516751e-01]\n",
      " [3.90292030e-01 6.09707970e-01]\n",
      " [8.98350618e-01 1.01649382e-01]\n",
      " [4.81872122e-01 5.18127878e-01]\n",
      " [8.36218245e-01 1.63781755e-01]\n",
      " [2.47439250e-01 7.52560750e-01]\n",
      " [6.05190700e-03 9.93948093e-01]\n",
      " [2.95926842e-01 7.04073158e-01]\n",
      " [7.60762499e-01 2.39237501e-01]\n",
      " [2.97124897e-03 9.97028751e-01]\n",
      " [6.83727841e-01 3.16272159e-01]\n",
      " [8.27315570e-01 1.72684430e-01]\n",
      " [6.81460098e-03 9.93185399e-01]\n",
      " [3.60031546e-01 6.39968454e-01]\n",
      " [1.27217131e-02 9.87278287e-01]\n",
      " [8.95327652e-01 1.04672348e-01]\n",
      " [2.16320220e-01 7.83679780e-01]\n",
      " [6.54657444e-01 3.45342556e-01]\n",
      " [6.77382394e-02 9.32261761e-01]\n",
      " [9.02518179e-01 9.74818208e-02]\n",
      " [9.26829403e-01 7.31705975e-02]\n",
      " [5.45751986e-01 4.54248014e-01]\n",
      " [3.74713408e-01 6.25286592e-01]\n",
      " [3.09766826e-03 9.96902332e-01]\n",
      " [6.91210815e-01 3.08789185e-01]\n",
      " [1.18569261e-01 8.81430739e-01]\n",
      " [1.24909908e-02 9.87509009e-01]\n",
      " [3.80152068e-02 9.61984793e-01]\n",
      " [7.03983670e-01 2.96016330e-01]\n",
      " [4.55113891e-01 5.44886109e-01]\n",
      " [1.93354060e-01 8.06645940e-01]\n",
      " [9.60107955e-01 3.98920445e-02]\n",
      " [2.56313652e-01 7.43686348e-01]\n",
      " [6.25210398e-01 3.74789602e-01]\n",
      " [1.03942429e-05 9.99989606e-01]\n",
      " [1.93315090e-01 8.06684910e-01]\n",
      " [6.38951808e-02 9.36104819e-01]\n",
      " [4.64033104e-02 9.53596690e-01]\n",
      " [5.62577828e-01 4.37422172e-01]\n",
      " [5.09295295e-01 4.90704705e-01]\n",
      " [2.43223145e-01 7.56776855e-01]\n",
      " [1.21837098e-01 8.78162902e-01]\n",
      " [1.36034494e-01 8.63965506e-01]\n",
      " [9.40483555e-01 5.95164447e-02]\n",
      " [7.64591544e-06 9.99992354e-01]\n",
      " [2.18617507e-06 9.99997814e-01]\n",
      " [9.87053056e-07 9.99999013e-01]\n",
      " [3.48155323e-01 6.51844677e-01]\n",
      " [4.19911560e-01 5.80088440e-01]\n",
      " [7.75543387e-01 2.24456613e-01]\n",
      " [9.26882222e-01 7.31177778e-02]\n",
      " [6.52909687e-02 9.34709031e-01]\n",
      " [3.83133826e-03 9.96168662e-01]\n",
      " [6.47820609e-02 9.35217939e-01]\n",
      " [6.86652630e-01 3.13347370e-01]\n",
      " [7.87679587e-01 2.12320413e-01]\n",
      " [1.73764425e-02 9.82623557e-01]\n",
      " [2.83195995e-02 9.71680401e-01]\n",
      " [8.15394092e-01 1.84605908e-01]\n",
      " [9.36212136e-01 6.37878645e-02]\n",
      " [6.58923849e-02 9.34107615e-01]\n",
      " [7.82299653e-06 9.99992177e-01]\n",
      " [4.47351157e-01 5.52648843e-01]\n",
      " [4.35296698e-03 9.95647033e-01]]\n"
     ]
    }
   ],
   "source": [
    "y_prob_ksvm = classifier_ksvm.predict_proba(X_test)\n",
    "print(y_prob_ksvm)"
   ]
  },
  {
   "cell_type": "code",
   "execution_count": 38,
   "metadata": {},
   "outputs": [
    {
     "name": "stdout",
     "output_type": "stream",
     "text": [
      "[[39  6]\n",
      " [ 9 55]]\n"
     ]
    },
    {
     "data": {
      "text/plain": [
       "0.8623853211009175"
      ]
     },
     "execution_count": 38,
     "metadata": {},
     "output_type": "execute_result"
    }
   ],
   "source": [
    "conf_matrix_ksvm = confusion_matrix(y_test, y_pred_ksvm)\n",
    "print(conf_matrix_ksvm)\n",
    "accuracy_score(y_test, y_pred_ksvm)"
   ]
  },
  {
   "cell_type": "code",
   "execution_count": 39,
   "metadata": {},
   "outputs": [
    {
     "name": "stdout",
     "output_type": "stream",
     "text": [
      "Cross-validation scores: [0.79816514 0.85321101 0.89908257 0.86111111 0.76851852]\n",
      "Mean accuracy: 0.84\n",
      "Standard Deviation: 0.05\n"
     ]
    }
   ],
   "source": [
    "scores_ksvm = cross_val_score(classifier_ksvm, X, y, cv=5)\n",
    "print(\"Cross-validation scores: {}\" . format(scores_ksvm))\n",
    "print(\"Mean accuracy: {:.2f}\" . format(scores_ksvm.mean()))\n",
    "print(\"Standard Deviation: {:.2f}\" . format(scores_ksvm.std()))"
   ]
  },
  {
   "cell_type": "markdown",
   "metadata": {},
   "source": [
    "## 4. Naive Bayes"
   ]
  },
  {
   "cell_type": "code",
   "execution_count": 40,
   "metadata": {},
   "outputs": [
    {
     "data": {
      "text/plain": [
       "GaussianNB(priors=None, var_smoothing=1e-09)"
      ]
     },
     "execution_count": 40,
     "metadata": {},
     "output_type": "execute_result"
    }
   ],
   "source": [
    "from sklearn.naive_bayes import GaussianNB\n",
    "classifier_nb = GaussianNB()\n",
    "classifier_nb.fit(X_train, y_train)"
   ]
  },
  {
   "cell_type": "code",
   "execution_count": 41,
   "metadata": {},
   "outputs": [
    {
     "name": "stdout",
     "output_type": "stream",
     "text": [
      "[[1 1]\n",
      " [0 0]\n",
      " [0 0]\n",
      " [0 1]\n",
      " [0 0]\n",
      " [1 1]\n",
      " [1 1]\n",
      " [1 1]\n",
      " [1 1]\n",
      " [0 0]\n",
      " [0 0]\n",
      " [0 0]\n",
      " [1 1]\n",
      " [0 0]\n",
      " [0 1]\n",
      " [0 0]\n",
      " [0 0]\n",
      " [0 0]\n",
      " [1 1]\n",
      " [0 0]\n",
      " [1 1]\n",
      " [1 1]\n",
      " [1 1]\n",
      " [1 1]\n",
      " [0 0]\n",
      " [0 0]\n",
      " [0 0]\n",
      " [1 1]\n",
      " [1 1]\n",
      " [0 0]\n",
      " [1 1]\n",
      " [1 1]\n",
      " [0 0]\n",
      " [0 1]\n",
      " [1 1]\n",
      " [0 0]\n",
      " [0 0]\n",
      " [0 1]\n",
      " [0 0]\n",
      " [0 0]\n",
      " [1 1]\n",
      " [0 0]\n",
      " [1 1]\n",
      " [0 1]\n",
      " [1 1]\n",
      " [0 1]\n",
      " [0 0]\n",
      " [0 0]\n",
      " [0 0]\n",
      " [0 0]\n",
      " [1 1]\n",
      " [1 1]\n",
      " [0 1]\n",
      " [0 1]\n",
      " [1 1]\n",
      " [1 1]\n",
      " [0 0]\n",
      " [1 1]\n",
      " [0 1]\n",
      " [1 1]\n",
      " [0 0]\n",
      " [1 1]\n",
      " [0 0]\n",
      " [1 1]\n",
      " [0 0]\n",
      " [0 0]\n",
      " [0 0]\n",
      " [1 1]\n",
      " [1 1]\n",
      " [0 0]\n",
      " [1 1]\n",
      " [1 1]\n",
      " [1 1]\n",
      " [0 1]\n",
      " [0 0]\n",
      " [1 1]\n",
      " [0 0]\n",
      " [1 0]\n",
      " [0 0]\n",
      " [1 1]\n",
      " [1 1]\n",
      " [1 1]\n",
      " [1 1]\n",
      " [0 0]\n",
      " [0 0]\n",
      " [1 1]\n",
      " [1 1]\n",
      " [1 1]\n",
      " [0 0]\n",
      " [1 1]\n",
      " [1 1]\n",
      " [1 1]\n",
      " [0 1]\n",
      " [0 1]\n",
      " [0 0]\n",
      " [0 0]\n",
      " [1 1]\n",
      " [1 1]\n",
      " [1 1]\n",
      " [0 0]\n",
      " [0 1]\n",
      " [1 1]\n",
      " [1 1]\n",
      " [0 0]\n",
      " [0 0]\n",
      " [1 1]\n",
      " [1 1]\n",
      " [0 0]\n",
      " [1 1]]\n"
     ]
    }
   ],
   "source": [
    "y_pred_nb = classifier_nb.predict(X_test)\n",
    "print(np.concatenate((y_pred_nb.reshape(len(y_pred_nb),1), y_test.reshape(len(y_test),1)),1))"
   ]
  },
  {
   "cell_type": "code",
   "execution_count": 42,
   "metadata": {},
   "outputs": [
    {
     "name": "stdout",
     "output_type": "stream",
     "text": [
      "[[3.70107951e-02 9.62989205e-01]\n",
      " [9.09303877e-01 9.06961231e-02]\n",
      " [9.88936022e-01 1.10639778e-02]\n",
      " [9.21806834e-01 7.81931663e-02]\n",
      " [9.37772836e-01 6.22271640e-02]\n",
      " [1.26316906e-01 8.73683094e-01]\n",
      " [2.91874232e-06 9.99997081e-01]\n",
      " [2.62907846e-05 9.99973709e-01]\n",
      " [2.34100041e-01 7.65899959e-01]\n",
      " [9.83930384e-01 1.60696157e-02]\n",
      " [9.69957831e-01 3.00421693e-02]\n",
      " [9.93984321e-01 6.01567879e-03]\n",
      " [9.46632411e-04 9.99053368e-01]\n",
      " [9.94864668e-01 5.13533213e-03]\n",
      " [7.43061836e-01 2.56938164e-01]\n",
      " [7.42241159e-01 2.57758841e-01]\n",
      " [7.78829163e-01 2.21170837e-01]\n",
      " [9.06317465e-01 9.36825355e-02]\n",
      " [3.08812170e-11 1.00000000e+00]\n",
      " [9.81093916e-01 1.89060841e-02]\n",
      " [8.35656991e-06 9.99991643e-01]\n",
      " [2.31340265e-01 7.68659735e-01]\n",
      " [7.11799373e-12 1.00000000e+00]\n",
      " [3.28543348e-01 6.71456652e-01]\n",
      " [9.89056602e-01 1.09433980e-02]\n",
      " [9.94055949e-01 5.94405086e-03]\n",
      " [9.77721268e-01 2.22787324e-02]\n",
      " [5.82498045e-03 9.94175020e-01]\n",
      " [7.11294281e-03 9.92887057e-01]\n",
      " [6.86753188e-01 3.13246812e-01]\n",
      " [1.40131071e-04 9.99859869e-01]\n",
      " [6.52549891e-04 9.99347450e-01]\n",
      " [9.93120865e-01 6.87913505e-03]\n",
      " [9.93898841e-01 6.10115932e-03]\n",
      " [4.98379804e-08 9.99999950e-01]\n",
      " [9.69864719e-01 3.01352811e-02]\n",
      " [7.44071416e-01 2.55928584e-01]\n",
      " [8.56577663e-01 1.43422337e-01]\n",
      " [6.55015696e-01 3.44984304e-01]\n",
      " [7.79249751e-01 2.20750249e-01]\n",
      " [1.10652524e-05 9.99988935e-01]\n",
      " [9.98378952e-01 1.62104842e-03]\n",
      " [1.44474538e-04 9.99855525e-01]\n",
      " [6.16388102e-01 3.83611898e-01]\n",
      " [2.87018203e-04 9.99712982e-01]\n",
      " [9.78092110e-01 2.19078897e-02]\n",
      " [8.24856460e-01 1.75143540e-01]\n",
      " [9.97297837e-01 2.70216269e-03]\n",
      " [7.67026585e-01 2.32973415e-01]\n",
      " [8.77603149e-01 1.22396851e-01]\n",
      " [3.92354932e-01 6.07645068e-01]\n",
      " [1.27386524e-09 9.99999999e-01]\n",
      " [6.55386370e-01 3.44613630e-01]\n",
      " [9.14798509e-01 8.52014909e-02]\n",
      " [2.09253930e-10 1.00000000e+00]\n",
      " [2.55142597e-01 7.44857403e-01]\n",
      " [9.95297148e-01 4.70285211e-03]\n",
      " [6.50778702e-09 9.99999993e-01]\n",
      " [7.81481380e-01 2.18518620e-01]\n",
      " [1.10297893e-06 9.99998897e-01]\n",
      " [9.93299081e-01 6.70091911e-03]\n",
      " [3.73119721e-05 9.99962688e-01]\n",
      " [9.18556496e-01 8.14435043e-02]\n",
      " [5.18426392e-07 9.99999482e-01]\n",
      " [9.75305036e-01 2.46949637e-02]\n",
      " [9.95444541e-01 4.55545927e-03]\n",
      " [7.14890227e-01 2.85109773e-01]\n",
      " [2.41663400e-01 7.58336600e-01]\n",
      " [4.02026950e-09 9.99999996e-01]\n",
      " [9.87022163e-01 1.29778369e-02]\n",
      " [1.93194606e-03 9.98068054e-01]\n",
      " [1.17271887e-06 9.99998827e-01]\n",
      " [4.73911832e-03 9.95260882e-01]\n",
      " [9.86727915e-01 1.32720847e-02]\n",
      " [6.59002483e-01 3.40997517e-01]\n",
      " [2.79264224e-01 7.20735776e-01]\n",
      " [9.89215292e-01 1.07847075e-02]\n",
      " [3.99535280e-01 6.00464720e-01]\n",
      " [9.56205731e-01 4.37942694e-02]\n",
      " [2.25853879e-11 1.00000000e+00]\n",
      " [3.08352594e-02 9.69164741e-01]\n",
      " [3.31291243e-03 9.96687088e-01]\n",
      " [6.69592072e-03 9.93304079e-01]\n",
      " [7.96922723e-01 2.03077277e-01]\n",
      " [9.60619554e-01 3.93804457e-02]\n",
      " [6.42671871e-04 9.99357328e-01]\n",
      " [2.13323803e-01 7.86676197e-01]\n",
      " [4.97108809e-02 9.50289119e-01]\n",
      " [9.95873383e-01 4.12661717e-03]\n",
      " [4.91009401e-14 1.00000000e+00]\n",
      " [5.37305309e-13 1.00000000e+00]\n",
      " [8.94314316e-16 1.00000000e+00]\n",
      " [6.13217444e-01 3.86782556e-01]\n",
      " [6.08886097e-01 3.91113903e-01]\n",
      " [9.60234320e-01 3.97656795e-02]\n",
      " [9.94055454e-01 5.94454592e-03]\n",
      " [1.03489105e-03 9.98965109e-01]\n",
      " [1.48318263e-10 1.00000000e+00]\n",
      " [2.29335845e-03 9.97706642e-01]\n",
      " [9.39387362e-01 6.06126381e-02]\n",
      " [8.14799584e-01 1.85200416e-01]\n",
      " [9.21555074e-05 9.99907844e-01]\n",
      " [1.07258752e-03 9.98927412e-01]\n",
      " [9.80372330e-01 1.96276704e-02]\n",
      " [9.86643728e-01 1.33562719e-02]\n",
      " [5.48292190e-02 9.45170781e-01]\n",
      " [1.07022672e-11 1.00000000e+00]\n",
      " [7.97860226e-01 2.02139774e-01]\n",
      " [8.41424334e-11 1.00000000e+00]]\n"
     ]
    }
   ],
   "source": [
    "y_prob_nb = classifier_nb.predict_proba(X_test)\n",
    "print(y_prob_nb)"
   ]
  },
  {
   "cell_type": "code",
   "execution_count": 43,
   "metadata": {},
   "outputs": [
    {
     "name": "stdout",
     "output_type": "stream",
     "text": [
      "[[44  1]\n",
      " [13 51]]\n"
     ]
    },
    {
     "data": {
      "text/plain": [
       "0.8715596330275229"
      ]
     },
     "execution_count": 43,
     "metadata": {},
     "output_type": "execute_result"
    }
   ],
   "source": [
    "conf_matrix_nb = confusion_matrix(y_test, y_pred_nb)\n",
    "print(conf_matrix_nb)\n",
    "accuracy_score(y_test, y_pred_nb)"
   ]
  },
  {
   "cell_type": "code",
   "execution_count": 44,
   "metadata": {},
   "outputs": [
    {
     "name": "stdout",
     "output_type": "stream",
     "text": [
      "Cross-validation scores: [0.88990826 0.8440367  0.89908257 0.81481481 0.78703704]\n",
      "Mean accuracy: 0.85\n",
      "Standard Deviation: 0.04\n"
     ]
    }
   ],
   "source": [
    "scores_nb = cross_val_score(classifier_nb, X, y, cv=5)\n",
    "print(\"Cross-validation scores: {}\" . format(scores_nb))\n",
    "print(\"Mean accuracy: {:.2f}\" . format(scores_nb.mean()))\n",
    "print(\"Standard Deviation: {:.2f}\" . format(scores_nb.std()))"
   ]
  },
  {
   "cell_type": "markdown",
   "metadata": {},
   "source": [
    "## 5. Decision Tree"
   ]
  },
  {
   "cell_type": "code",
   "execution_count": 45,
   "metadata": {},
   "outputs": [
    {
     "name": "stdout",
     "output_type": "stream",
     "text": [
      "List of grids: \n",
      "[{'max_depth': range(1, 20), 'criterion': ['gini', 'entropy'], 'min_samples_leaf': range(5, 15)}]\n"
     ]
    }
   ],
   "source": [
    "param_grid = [{'max_depth':range(1,20), 'criterion':['gini','entropy'], 'min_samples_leaf':range(5,15)}]\n",
    "print(\"List of grids: \\n{}\" . format(param_grid))"
   ]
  },
  {
   "cell_type": "code",
   "execution_count": 46,
   "metadata": {},
   "outputs": [
    {
     "name": "stdout",
     "output_type": "stream",
     "text": [
      "Best parameters: {'criterion': 'entropy', 'max_depth': 7, 'min_samples_leaf': 6}\n",
      "Best cross-validation score: 0.85\n"
     ]
    }
   ],
   "source": [
    "from sklearn.tree import DecisionTreeClassifier\n",
    "grid_search = GridSearchCV(DecisionTreeClassifier(), param_grid, cv=5)\n",
    "grid_search.fit(X, y)\n",
    "print(\"Best parameters: {}\" . format(grid_search. best_params_))\n",
    "print(\"Best cross-validation score: {:.2f}\" . format(grid_search. best_score_))"
   ]
  },
  {
   "cell_type": "code",
   "execution_count": 47,
   "metadata": {},
   "outputs": [
    {
     "data": {
      "text/plain": [
       "DecisionTreeClassifier(class_weight=None, criterion='entropy', max_depth=7,\n",
       "                       max_features=None, max_leaf_nodes=None,\n",
       "                       min_impurity_decrease=0.0, min_impurity_split=None,\n",
       "                       min_samples_leaf=7, min_samples_split=2,\n",
       "                       min_weight_fraction_leaf=0.0, presort=False,\n",
       "                       random_state=0, splitter='best')"
      ]
     },
     "execution_count": 47,
     "metadata": {},
     "output_type": "execute_result"
    }
   ],
   "source": [
    "from sklearn.tree import DecisionTreeClassifier\n",
    "classifier_DT = DecisionTreeClassifier(criterion = 'entropy', max_depth = 7, min_samples_leaf = 7, random_state = 0)\n",
    "classifier_DT.fit(X_train, y_train)"
   ]
  },
  {
   "cell_type": "code",
   "execution_count": 48,
   "metadata": {},
   "outputs": [
    {
     "name": "stdout",
     "output_type": "stream",
     "text": [
      "[[1 1]\n",
      " [0 0]\n",
      " [1 0]\n",
      " [1 1]\n",
      " [0 0]\n",
      " [1 1]\n",
      " [1 1]\n",
      " [1 1]\n",
      " [1 1]\n",
      " [0 0]\n",
      " [0 0]\n",
      " [0 0]\n",
      " [1 1]\n",
      " [1 0]\n",
      " [0 1]\n",
      " [0 0]\n",
      " [0 0]\n",
      " [0 0]\n",
      " [1 1]\n",
      " [0 0]\n",
      " [1 1]\n",
      " [1 1]\n",
      " [1 1]\n",
      " [1 1]\n",
      " [0 0]\n",
      " [0 0]\n",
      " [0 0]\n",
      " [1 1]\n",
      " [1 1]\n",
      " [0 0]\n",
      " [1 1]\n",
      " [1 1]\n",
      " [0 0]\n",
      " [0 1]\n",
      " [1 1]\n",
      " [0 0]\n",
      " [1 0]\n",
      " [0 1]\n",
      " [0 0]\n",
      " [0 0]\n",
      " [1 1]\n",
      " [0 0]\n",
      " [1 1]\n",
      " [1 1]\n",
      " [1 1]\n",
      " [0 1]\n",
      " [1 0]\n",
      " [0 0]\n",
      " [0 0]\n",
      " [0 0]\n",
      " [1 1]\n",
      " [1 1]\n",
      " [1 1]\n",
      " [0 1]\n",
      " [1 1]\n",
      " [1 1]\n",
      " [0 0]\n",
      " [1 1]\n",
      " [0 1]\n",
      " [1 1]\n",
      " [0 0]\n",
      " [1 1]\n",
      " [0 0]\n",
      " [1 1]\n",
      " [0 0]\n",
      " [0 0]\n",
      " [0 0]\n",
      " [1 1]\n",
      " [1 1]\n",
      " [0 0]\n",
      " [1 1]\n",
      " [1 1]\n",
      " [1 1]\n",
      " [0 1]\n",
      " [1 0]\n",
      " [1 1]\n",
      " [0 0]\n",
      " [0 0]\n",
      " [0 0]\n",
      " [1 1]\n",
      " [1 1]\n",
      " [1 1]\n",
      " [1 1]\n",
      " [0 0]\n",
      " [0 0]\n",
      " [1 1]\n",
      " [1 1]\n",
      " [1 1]\n",
      " [0 0]\n",
      " [1 1]\n",
      " [1 1]\n",
      " [1 1]\n",
      " [0 1]\n",
      " [1 1]\n",
      " [0 0]\n",
      " [0 0]\n",
      " [1 1]\n",
      " [1 1]\n",
      " [1 1]\n",
      " [0 0]\n",
      " [1 1]\n",
      " [1 1]\n",
      " [1 1]\n",
      " [1 0]\n",
      " [0 0]\n",
      " [1 1]\n",
      " [1 1]\n",
      " [0 0]\n",
      " [1 1]]\n"
     ]
    }
   ],
   "source": [
    "y_pred_DT = classifier_DT.predict(X_test)\n",
    "print(np.concatenate((y_pred_DT.reshape(len(y_pred_DT),1), y_test.reshape(len(y_test),1)),1))"
   ]
  },
  {
   "cell_type": "code",
   "execution_count": 49,
   "metadata": {},
   "outputs": [
    {
     "name": "stdout",
     "output_type": "stream",
     "text": [
      "[[0.         1.        ]\n",
      " [0.85714286 0.14285714]\n",
      " [0.42857143 0.57142857]\n",
      " [0.42857143 0.57142857]\n",
      " [0.6        0.4       ]\n",
      " [0.         1.        ]\n",
      " [0.         1.        ]\n",
      " [0.         1.        ]\n",
      " [0.36111111 0.63888889]\n",
      " [0.85185185 0.14814815]\n",
      " [0.77777778 0.22222222]\n",
      " [0.76470588 0.23529412]\n",
      " [0.42857143 0.57142857]\n",
      " [0.42857143 0.57142857]\n",
      " [0.58333333 0.41666667]\n",
      " [1.         0.        ]\n",
      " [0.875      0.125     ]\n",
      " [0.5        0.5       ]\n",
      " [0.         1.        ]\n",
      " [1.         0.        ]\n",
      " [0.         1.        ]\n",
      " [0.         1.        ]\n",
      " [0.         1.        ]\n",
      " [0.36111111 0.63888889]\n",
      " [1.         0.        ]\n",
      " [1.         0.        ]\n",
      " [0.85185185 0.14814815]\n",
      " [0.         1.        ]\n",
      " [0.         1.        ]\n",
      " [0.85714286 0.14285714]\n",
      " [0.         1.        ]\n",
      " [0.         1.        ]\n",
      " [1.         0.        ]\n",
      " [0.77777778 0.22222222]\n",
      " [0.         1.        ]\n",
      " [0.76470588 0.23529412]\n",
      " [0.36111111 0.63888889]\n",
      " [1.         0.        ]\n",
      " [0.85714286 0.14285714]\n",
      " [1.         0.        ]\n",
      " [0.         1.        ]\n",
      " [1.         0.        ]\n",
      " [0.         1.        ]\n",
      " [0.         1.        ]\n",
      " [0.         1.        ]\n",
      " [0.85185185 0.14814815]\n",
      " [0.36111111 0.63888889]\n",
      " [0.77777778 0.22222222]\n",
      " [0.5        0.5       ]\n",
      " [1.         0.        ]\n",
      " [0.         1.        ]\n",
      " [0.         1.        ]\n",
      " [0.36111111 0.63888889]\n",
      " [1.         0.        ]\n",
      " [0.         1.        ]\n",
      " [0.         1.        ]\n",
      " [0.85185185 0.14814815]\n",
      " [0.         1.        ]\n",
      " [0.5        0.5       ]\n",
      " [0.         1.        ]\n",
      " [1.         0.        ]\n",
      " [0.         1.        ]\n",
      " [1.         0.        ]\n",
      " [0.         1.        ]\n",
      " [1.         0.        ]\n",
      " [0.85185185 0.14814815]\n",
      " [0.5        0.5       ]\n",
      " [0.         1.        ]\n",
      " [0.         1.        ]\n",
      " [0.77777778 0.22222222]\n",
      " [0.         1.        ]\n",
      " [0.         1.        ]\n",
      " [0.         1.        ]\n",
      " [0.77777778 0.22222222]\n",
      " [0.36111111 0.63888889]\n",
      " [0.36111111 0.63888889]\n",
      " [1.         0.        ]\n",
      " [0.85714286 0.14285714]\n",
      " [0.85185185 0.14814815]\n",
      " [0.         1.        ]\n",
      " [0.         1.        ]\n",
      " [0.         1.        ]\n",
      " [0.         1.        ]\n",
      " [0.875      0.125     ]\n",
      " [0.85185185 0.14814815]\n",
      " [0.         1.        ]\n",
      " [0.36111111 0.63888889]\n",
      " [0.         1.        ]\n",
      " [0.77777778 0.22222222]\n",
      " [0.         1.        ]\n",
      " [0.         1.        ]\n",
      " [0.         1.        ]\n",
      " [0.5        0.5       ]\n",
      " [0.         1.        ]\n",
      " [1.         0.        ]\n",
      " [0.76470588 0.23529412]\n",
      " [0.         1.        ]\n",
      " [0.         1.        ]\n",
      " [0.         1.        ]\n",
      " [1.         0.        ]\n",
      " [0.42857143 0.57142857]\n",
      " [0.         1.        ]\n",
      " [0.         1.        ]\n",
      " [0.42857143 0.57142857]\n",
      " [1.         0.        ]\n",
      " [0.         1.        ]\n",
      " [0.         1.        ]\n",
      " [1.         0.        ]\n",
      " [0.         1.        ]]\n"
     ]
    }
   ],
   "source": [
    "y_prob_DT = classifier_DT.predict_proba(X_test)\n",
    "print(y_prob_DT)"
   ]
  },
  {
   "cell_type": "code",
   "execution_count": 50,
   "metadata": {},
   "outputs": [
    {
     "name": "stdout",
     "output_type": "stream",
     "text": [
      "[[39  6]\n",
      " [ 8 56]]\n"
     ]
    },
    {
     "data": {
      "text/plain": [
       "0.8715596330275229"
      ]
     },
     "execution_count": 50,
     "metadata": {},
     "output_type": "execute_result"
    }
   ],
   "source": [
    "conf_matrix_DT = confusion_matrix(y_test, y_pred_DT)\n",
    "print(conf_matrix_DT)\n",
    "accuracy_score(y_test, y_pred_DT)"
   ]
  },
  {
   "cell_type": "code",
   "execution_count": 51,
   "metadata": {},
   "outputs": [
    {
     "name": "stdout",
     "output_type": "stream",
     "text": [
      "Cross-validation scores: [0.82568807 0.88990826 0.89908257 0.86111111 0.80555556]\n",
      "Mean accuracy: 0.86\n",
      "Standard Deviation: 0.04\n"
     ]
    }
   ],
   "source": [
    "scores_DT = cross_val_score(classifier_DT, X, y, cv=5)\n",
    "print(\"Cross-validation scores: {}\" . format(scores_DT))\n",
    "print(\"Mean accuracy: {:.2f}\" . format(scores_DT.mean()))\n",
    "print(\"Standard Deviation: {:.2f}\" . format(scores_DT.std()))"
   ]
  },
  {
   "cell_type": "markdown",
   "metadata": {},
   "source": [
    "## 6. Bagging"
   ]
  },
  {
   "cell_type": "code",
   "execution_count": 52,
   "metadata": {},
   "outputs": [
    {
     "data": {
      "text/plain": [
       "BaggingClassifier(base_estimator=DecisionTreeClassifier(class_weight=None,\n",
       "                                                        criterion='entropy',\n",
       "                                                        max_depth=7,\n",
       "                                                        max_features=None,\n",
       "                                                        max_leaf_nodes=None,\n",
       "                                                        min_impurity_decrease=0.0,\n",
       "                                                        min_impurity_split=None,\n",
       "                                                        min_samples_leaf=7,\n",
       "                                                        min_samples_split=2,\n",
       "                                                        min_weight_fraction_leaf=0.0,\n",
       "                                                        presort=False,\n",
       "                                                        random_state=0,\n",
       "                                                        splitter='best'),\n",
       "                  bootstrap=True, bootstrap_features=False, max_features=1.0,\n",
       "                  max_samples=1.0, n_estimators=100, n_jobs=None,\n",
       "                  oob_score=False, random_state=100, verbose=0,\n",
       "                  warm_start=False)"
      ]
     },
     "execution_count": 52,
     "metadata": {},
     "output_type": "execute_result"
    }
   ],
   "source": [
    "from sklearn.ensemble import BaggingClassifier\n",
    "classifier_bag = BaggingClassifier(base_estimator=classifier_DT, n_estimators=100, random_state=100)\n",
    "classifier_bag.fit(X_train, y_train)"
   ]
  },
  {
   "cell_type": "code",
   "execution_count": 53,
   "metadata": {},
   "outputs": [
    {
     "name": "stdout",
     "output_type": "stream",
     "text": [
      "[[1 1]\n",
      " [0 0]\n",
      " [0 0]\n",
      " [0 1]\n",
      " [0 0]\n",
      " [1 1]\n",
      " [1 1]\n",
      " [1 1]\n",
      " [1 1]\n",
      " [0 0]\n",
      " [0 0]\n",
      " [0 0]\n",
      " [1 1]\n",
      " [0 0]\n",
      " [0 1]\n",
      " [0 0]\n",
      " [0 0]\n",
      " [1 0]\n",
      " [1 1]\n",
      " [0 0]\n",
      " [1 1]\n",
      " [1 1]\n",
      " [1 1]\n",
      " [1 1]\n",
      " [0 0]\n",
      " [0 0]\n",
      " [0 0]\n",
      " [1 1]\n",
      " [1 1]\n",
      " [0 0]\n",
      " [1 1]\n",
      " [1 1]\n",
      " [0 0]\n",
      " [0 1]\n",
      " [1 1]\n",
      " [0 0]\n",
      " [1 0]\n",
      " [0 1]\n",
      " [0 0]\n",
      " [0 0]\n",
      " [1 1]\n",
      " [0 0]\n",
      " [1 1]\n",
      " [1 1]\n",
      " [1 1]\n",
      " [0 1]\n",
      " [1 0]\n",
      " [0 0]\n",
      " [0 0]\n",
      " [0 0]\n",
      " [1 1]\n",
      " [1 1]\n",
      " [1 1]\n",
      " [0 1]\n",
      " [1 1]\n",
      " [1 1]\n",
      " [0 0]\n",
      " [1 1]\n",
      " [1 1]\n",
      " [1 1]\n",
      " [0 0]\n",
      " [1 1]\n",
      " [0 0]\n",
      " [1 1]\n",
      " [0 0]\n",
      " [0 0]\n",
      " [0 0]\n",
      " [1 1]\n",
      " [1 1]\n",
      " [0 0]\n",
      " [1 1]\n",
      " [1 1]\n",
      " [1 1]\n",
      " [0 1]\n",
      " [0 0]\n",
      " [1 1]\n",
      " [0 0]\n",
      " [0 0]\n",
      " [0 0]\n",
      " [1 1]\n",
      " [1 1]\n",
      " [1 1]\n",
      " [1 1]\n",
      " [0 0]\n",
      " [0 0]\n",
      " [1 1]\n",
      " [1 1]\n",
      " [1 1]\n",
      " [0 0]\n",
      " [1 1]\n",
      " [1 1]\n",
      " [1 1]\n",
      " [1 1]\n",
      " [1 1]\n",
      " [0 0]\n",
      " [0 0]\n",
      " [1 1]\n",
      " [1 1]\n",
      " [1 1]\n",
      " [0 0]\n",
      " [1 1]\n",
      " [1 1]\n",
      " [1 1]\n",
      " [0 0]\n",
      " [0 0]\n",
      " [1 1]\n",
      " [1 1]\n",
      " [0 0]\n",
      " [1 1]]\n"
     ]
    }
   ],
   "source": [
    "y_pred_bag = classifier_bag.predict(X_test)\n",
    "print(np.concatenate((y_pred_bag.reshape(len(y_pred_bag),1), y_test.reshape(len(y_test),1)),1))"
   ]
  },
  {
   "cell_type": "code",
   "execution_count": 54,
   "metadata": {},
   "outputs": [
    {
     "name": "stdout",
     "output_type": "stream",
     "text": [
      "[[0.         1.        ]\n",
      " [0.65591324 0.34408676]\n",
      " [0.7654386  0.2345614 ]\n",
      " [0.74127061 0.25872939]\n",
      " [0.62970628 0.37029372]\n",
      " [0.         1.        ]\n",
      " [0.         1.        ]\n",
      " [0.16932519 0.83067481]\n",
      " [0.39753088 0.60246912]\n",
      " [0.79971647 0.20028353]\n",
      " [0.87654447 0.12345553]\n",
      " [0.82160136 0.17839864]\n",
      " [0.43831223 0.56168777]\n",
      " [0.75880596 0.24119404]\n",
      " [0.65124271 0.34875729]\n",
      " [0.67630435 0.32369565]\n",
      " [0.56204124 0.43795876]\n",
      " [0.45005237 0.54994763]\n",
      " [0.         1.        ]\n",
      " [0.85729867 0.14270133]\n",
      " [0.         1.        ]\n",
      " [0.         1.        ]\n",
      " [0.         1.        ]\n",
      " [0.27502291 0.72497709]\n",
      " [0.92931258 0.07068742]\n",
      " [0.93469219 0.06530781]\n",
      " [0.76366287 0.23633713]\n",
      " [0.         1.        ]\n",
      " [0.         1.        ]\n",
      " [0.6653242  0.3346758 ]\n",
      " [0.12062096 0.87937904]\n",
      " [0.         1.        ]\n",
      " [0.89145094 0.10854906]\n",
      " [0.78775953 0.21224047]\n",
      " [0.         1.        ]\n",
      " [0.81009137 0.18990863]\n",
      " [0.38759455 0.61240545]\n",
      " [0.6814895  0.3185105 ]\n",
      " [0.54756838 0.45243162]\n",
      " [0.60197153 0.39802847]\n",
      " [0.         1.        ]\n",
      " [0.86925214 0.13074786]\n",
      " [0.         1.        ]\n",
      " [0.17720523 0.82279477]\n",
      " [0.         1.        ]\n",
      " [0.8729761  0.1270239 ]\n",
      " [0.36559551 0.63440449]\n",
      " [0.73593806 0.26406194]\n",
      " [0.68077279 0.31922721]\n",
      " [0.89594039 0.10405961]\n",
      " [0.         1.        ]\n",
      " [0.         1.        ]\n",
      " [0.49339718 0.50660282]\n",
      " [0.6178321  0.3821679 ]\n",
      " [0.         1.        ]\n",
      " [0.17162673 0.82837327]\n",
      " [0.9264503  0.0735497 ]\n",
      " [0.         1.        ]\n",
      " [0.49626755 0.50373245]\n",
      " [0.         1.        ]\n",
      " [0.86292452 0.13707548]\n",
      " [0.01350735 0.98649265]\n",
      " [0.86344709 0.13655291]\n",
      " [0.         1.        ]\n",
      " [0.85367114 0.14632886]\n",
      " [0.86949481 0.13050519]\n",
      " [0.64851006 0.35148994]\n",
      " [0.14795811 0.85204189]\n",
      " [0.         1.        ]\n",
      " [0.79135625 0.20864375]\n",
      " [0.         1.        ]\n",
      " [0.         1.        ]\n",
      " [0.         1.        ]\n",
      " [0.81920765 0.18079235]\n",
      " [0.50966141 0.49033859]\n",
      " [0.37370441 0.62629559]\n",
      " [0.90308306 0.09691694]\n",
      " [0.51262525 0.48737475]\n",
      " [0.89726775 0.10273225]\n",
      " [0.         1.        ]\n",
      " [0.         1.        ]\n",
      " [0.         1.        ]\n",
      " [0.         1.        ]\n",
      " [0.60307122 0.39692878]\n",
      " [0.77017941 0.22982059]\n",
      " [0.13077452 0.86922548]\n",
      " [0.40927128 0.59072872]\n",
      " [0.         1.        ]\n",
      " [0.76389142 0.23610858]\n",
      " [0.         1.        ]\n",
      " [0.         1.        ]\n",
      " [0.         1.        ]\n",
      " [0.3470385  0.6529615 ]\n",
      " [0.         1.        ]\n",
      " [0.67431271 0.32568729]\n",
      " [0.76964371 0.23035629]\n",
      " [0.         1.        ]\n",
      " [0.         1.        ]\n",
      " [0.07982894 0.92017106]\n",
      " [0.56431716 0.43568284]\n",
      " [0.44282698 0.55717302]\n",
      " [0.         1.        ]\n",
      " [0.         1.        ]\n",
      " [0.81114959 0.18885041]\n",
      " [0.86510752 0.13489248]\n",
      " [0.         1.        ]\n",
      " [0.         1.        ]\n",
      " [0.84141822 0.15858178]\n",
      " [0.         1.        ]]\n"
     ]
    }
   ],
   "source": [
    "y_prob_bag = classifier_bag.predict_proba(X_test)\n",
    "print(y_prob_bag)"
   ]
  },
  {
   "cell_type": "code",
   "execution_count": 55,
   "metadata": {},
   "outputs": [
    {
     "name": "stdout",
     "output_type": "stream",
     "text": [
      "[[42  3]\n",
      " [ 7 57]]\n"
     ]
    },
    {
     "data": {
      "text/plain": [
       "0.908256880733945"
      ]
     },
     "execution_count": 55,
     "metadata": {},
     "output_type": "execute_result"
    }
   ],
   "source": [
    "conf_matrix_bag = confusion_matrix(y_test, y_pred_bag)\n",
    "print(conf_matrix_bag)\n",
    "accuracy_score(y_test, y_pred_bag)"
   ]
  },
  {
   "cell_type": "code",
   "execution_count": 56,
   "metadata": {},
   "outputs": [
    {
     "name": "stdout",
     "output_type": "stream",
     "text": [
      "Cross-validation scores: [0.8440367  0.88073394 0.91743119 0.87037037 0.82407407]\n",
      "Mean accuracy: 0.87\n",
      "Standard Deviation: 0.03\n"
     ]
    }
   ],
   "source": [
    "scores_bag = cross_val_score(classifier_bag, X, y, cv=5)\n",
    "print(\"Cross-validation scores: {}\" . format(scores_bag))\n",
    "print(\"Mean accuracy: {:.2f}\" . format(scores_bag.mean()))\n",
    "print(\"Standard Deviation: {:.2f}\" . format(scores_bag.std()))"
   ]
  },
  {
   "cell_type": "markdown",
   "metadata": {},
   "source": [
    "## 7. Ada_BOOST"
   ]
  },
  {
   "cell_type": "code",
   "execution_count": 57,
   "metadata": {},
   "outputs": [
    {
     "data": {
      "text/plain": [
       "AdaBoostClassifier(algorithm='SAMME.R',\n",
       "                   base_estimator=DecisionTreeClassifier(class_weight=None,\n",
       "                                                         criterion='entropy',\n",
       "                                                         max_depth=7,\n",
       "                                                         max_features=None,\n",
       "                                                         max_leaf_nodes=None,\n",
       "                                                         min_impurity_decrease=0.0,\n",
       "                                                         min_impurity_split=None,\n",
       "                                                         min_samples_leaf=7,\n",
       "                                                         min_samples_split=2,\n",
       "                                                         min_weight_fraction_leaf=0.0,\n",
       "                                                         presort=False,\n",
       "                                                         random_state=0,\n",
       "                                                         splitter='best'),\n",
       "                   learning_rate=1.0, n_estimators=100, random_state=100)"
      ]
     },
     "execution_count": 57,
     "metadata": {},
     "output_type": "execute_result"
    }
   ],
   "source": [
    "from sklearn.ensemble import AdaBoostClassifier\n",
    "classifier_ada = AdaBoostClassifier(base_estimator=classifier_DT, n_estimators=100, random_state=100)\n",
    "classifier_ada.fit(X_train, y_train)"
   ]
  },
  {
   "cell_type": "code",
   "execution_count": 58,
   "metadata": {},
   "outputs": [
    {
     "name": "stdout",
     "output_type": "stream",
     "text": [
      "[[1 1]\n",
      " [0 0]\n",
      " [0 0]\n",
      " [1 1]\n",
      " [0 0]\n",
      " [1 1]\n",
      " [1 1]\n",
      " [0 1]\n",
      " [1 1]\n",
      " [1 0]\n",
      " [0 0]\n",
      " [0 0]\n",
      " [0 1]\n",
      " [0 0]\n",
      " [0 1]\n",
      " [0 0]\n",
      " [1 0]\n",
      " [1 0]\n",
      " [1 1]\n",
      " [0 0]\n",
      " [1 1]\n",
      " [1 1]\n",
      " [1 1]\n",
      " [1 1]\n",
      " [0 0]\n",
      " [0 0]\n",
      " [0 0]\n",
      " [1 1]\n",
      " [1 1]\n",
      " [0 0]\n",
      " [1 1]\n",
      " [1 1]\n",
      " [0 0]\n",
      " [1 1]\n",
      " [1 1]\n",
      " [0 0]\n",
      " [0 0]\n",
      " [0 1]\n",
      " [0 0]\n",
      " [0 0]\n",
      " [1 1]\n",
      " [0 0]\n",
      " [1 1]\n",
      " [1 1]\n",
      " [1 1]\n",
      " [0 1]\n",
      " [1 0]\n",
      " [1 0]\n",
      " [0 0]\n",
      " [0 0]\n",
      " [1 1]\n",
      " [1 1]\n",
      " [0 1]\n",
      " [0 1]\n",
      " [1 1]\n",
      " [0 1]\n",
      " [0 0]\n",
      " [1 1]\n",
      " [1 1]\n",
      " [1 1]\n",
      " [0 0]\n",
      " [1 1]\n",
      " [0 0]\n",
      " [1 1]\n",
      " [0 0]\n",
      " [0 0]\n",
      " [0 0]\n",
      " [1 1]\n",
      " [1 1]\n",
      " [1 0]\n",
      " [1 1]\n",
      " [1 1]\n",
      " [1 1]\n",
      " [1 1]\n",
      " [0 0]\n",
      " [1 1]\n",
      " [0 0]\n",
      " [0 0]\n",
      " [0 0]\n",
      " [1 1]\n",
      " [1 1]\n",
      " [1 1]\n",
      " [1 1]\n",
      " [1 0]\n",
      " [1 0]\n",
      " [1 1]\n",
      " [1 1]\n",
      " [1 1]\n",
      " [0 0]\n",
      " [1 1]\n",
      " [1 1]\n",
      " [1 1]\n",
      " [1 1]\n",
      " [1 1]\n",
      " [0 0]\n",
      " [0 0]\n",
      " [1 1]\n",
      " [1 1]\n",
      " [1 1]\n",
      " [1 0]\n",
      " [0 1]\n",
      " [1 1]\n",
      " [1 1]\n",
      " [0 0]\n",
      " [0 0]\n",
      " [1 1]\n",
      " [1 1]\n",
      " [0 0]\n",
      " [1 1]]\n"
     ]
    }
   ],
   "source": [
    "y_pred_ada = classifier_ada.predict(X_test)\n",
    "print(np.concatenate((y_pred_ada.reshape(len(y_pred_ada),1), y_test.reshape(len(y_test),1)),1))"
   ]
  },
  {
   "cell_type": "code",
   "execution_count": 59,
   "metadata": {},
   "outputs": [
    {
     "name": "stdout",
     "output_type": "stream",
     "text": [
      "[[6.71036023e-03 9.93289640e-01]\n",
      " [9.30396035e-01 6.96039651e-02]\n",
      " [9.96247571e-01 3.75242879e-03]\n",
      " [5.64302033e-02 9.43569797e-01]\n",
      " [7.17605830e-01 2.82394170e-01]\n",
      " [7.30821927e-03 9.92691781e-01]\n",
      " [8.49866106e-06 9.99991501e-01]\n",
      " [7.47925302e-01 2.52074698e-01]\n",
      " [3.10475508e-01 6.89524492e-01]\n",
      " [4.26018760e-01 5.73981240e-01]\n",
      " [9.96190908e-01 3.80909190e-03]\n",
      " [9.90325908e-01 9.67409243e-03]\n",
      " [6.55562796e-01 3.44437204e-01]\n",
      " [5.76014716e-01 4.23985284e-01]\n",
      " [8.92419601e-01 1.07580399e-01]\n",
      " [8.64124775e-01 1.35875225e-01]\n",
      " [1.21019763e-01 8.78980237e-01]\n",
      " [2.31509915e-02 9.76849009e-01]\n",
      " [3.35659629e-06 9.99996643e-01]\n",
      " [9.91330471e-01 8.66952861e-03]\n",
      " [2.24111103e-05 9.99977589e-01]\n",
      " [9.57332628e-03 9.90426674e-01]\n",
      " [2.46577351e-05 9.99975342e-01]\n",
      " [3.60486146e-03 9.96395139e-01]\n",
      " [9.99269884e-01 7.30116160e-04]\n",
      " [9.98793210e-01 1.20679014e-03]\n",
      " [9.87459507e-01 1.25404928e-02]\n",
      " [3.87192483e-05 9.99961281e-01]\n",
      " [1.24209808e-04 9.99875790e-01]\n",
      " [8.39379476e-01 1.60620524e-01]\n",
      " [5.50301246e-02 9.44969875e-01]\n",
      " [8.42719787e-05 9.99915728e-01]\n",
      " [9.95830467e-01 4.16953272e-03]\n",
      " [1.18967705e-01 8.81032295e-01]\n",
      " [1.87929003e-08 9.99999981e-01]\n",
      " [9.54484666e-01 4.55153339e-02]\n",
      " [9.59731797e-01 4.02682035e-02]\n",
      " [9.53885214e-01 4.61147864e-02]\n",
      " [7.72744784e-01 2.27255216e-01]\n",
      " [9.74681937e-01 2.53180629e-02]\n",
      " [3.77108206e-05 9.99962289e-01]\n",
      " [9.99828723e-01 1.71276800e-04]\n",
      " [2.05983708e-04 9.99794016e-01]\n",
      " [4.07154139e-03 9.95928459e-01]\n",
      " [2.59273501e-06 9.99997407e-01]\n",
      " [9.97447718e-01 2.55228170e-03]\n",
      " [3.50124653e-01 6.49875347e-01]\n",
      " [1.25517778e-02 9.87448222e-01]\n",
      " [9.97251233e-01 2.74876683e-03]\n",
      " [9.98781634e-01 1.21836619e-03]\n",
      " [9.67637858e-04 9.99032362e-01]\n",
      " [1.16323796e-09 9.99999999e-01]\n",
      " [6.34205771e-01 3.65794229e-01]\n",
      " [9.59351144e-01 4.06488556e-02]\n",
      " [9.48737185e-07 9.99999051e-01]\n",
      " [6.51165459e-01 3.48834541e-01]\n",
      " [9.99962912e-01 3.70875606e-05]\n",
      " [4.25833665e-09 9.99999996e-01]\n",
      " [2.45842128e-02 9.75415787e-01]\n",
      " [1.41774872e-05 9.99985823e-01]\n",
      " [9.94730115e-01 5.26988457e-03]\n",
      " [9.52100446e-04 9.99047900e-01]\n",
      " [9.92914551e-01 7.08544886e-03]\n",
      " [7.04901315e-03 9.92950987e-01]\n",
      " [9.99278478e-01 7.21521583e-04]\n",
      " [9.95595293e-01 4.40470736e-03]\n",
      " [9.41065634e-01 5.89343662e-02]\n",
      " [4.16414945e-01 5.83585055e-01]\n",
      " [1.64547508e-04 9.99835452e-01]\n",
      " [7.50630823e-02 9.24936918e-01]\n",
      " [9.49181699e-03 9.90508183e-01]\n",
      " [3.19491163e-02 9.68050884e-01]\n",
      " [3.72011344e-05 9.99962799e-01]\n",
      " [4.26505833e-01 5.73494167e-01]\n",
      " [9.81460280e-01 1.85397202e-02]\n",
      " [3.97890966e-01 6.02109034e-01]\n",
      " [9.84606932e-01 1.53930675e-02]\n",
      " [9.26212838e-01 7.37871620e-02]\n",
      " [9.99952790e-01 4.72095255e-05]\n",
      " [3.36616769e-04 9.99663383e-01]\n",
      " [1.23364830e-03 9.98766352e-01]\n",
      " [3.70969689e-04 9.99629030e-01]\n",
      " [1.41450607e-03 9.98585494e-01]\n",
      " [4.44623672e-01 5.55376328e-01]\n",
      " [3.30427511e-02 9.66957249e-01]\n",
      " [1.74930009e-02 9.82506999e-01]\n",
      " [2.33323658e-02 9.76667634e-01]\n",
      " [1.29559682e-04 9.99870440e-01]\n",
      " [9.21012921e-01 7.89870793e-02]\n",
      " [5.71274274e-08 9.99999943e-01]\n",
      " [1.46104313e-06 9.99998539e-01]\n",
      " [5.08179929e-09 9.99999995e-01]\n",
      " [8.90103427e-03 9.91098966e-01]\n",
      " [1.25714331e-02 9.87428567e-01]\n",
      " [9.97298090e-01 2.70191041e-03]\n",
      " [8.90561878e-01 1.09438122e-01]\n",
      " [6.91347564e-04 9.99308652e-01]\n",
      " [6.85608576e-06 9.99993144e-01]\n",
      " [1.04833548e-06 9.99998952e-01]\n",
      " [6.95455560e-02 9.30454444e-01]\n",
      " [7.76610224e-01 2.23389776e-01]\n",
      " [3.72514941e-07 9.99999627e-01]\n",
      " [8.43301475e-05 9.99915670e-01]\n",
      " [9.77697365e-01 2.23026348e-02]\n",
      " [9.90736359e-01 9.26364084e-03]\n",
      " [1.32741586e-04 9.99867258e-01]\n",
      " [1.40566078e-07 9.99999859e-01]\n",
      " [9.82524051e-01 1.74759485e-02]\n",
      " [2.16466032e-08 9.99999978e-01]]\n"
     ]
    }
   ],
   "source": [
    "y_prob_ada = classifier_ada.predict_proba(X_test)\n",
    "print(y_prob_ada)"
   ]
  },
  {
   "cell_type": "code",
   "execution_count": 60,
   "metadata": {},
   "outputs": [
    {
     "name": "stdout",
     "output_type": "stream",
     "text": [
      "[[36  9]\n",
      " [ 9 55]]\n"
     ]
    },
    {
     "data": {
      "text/plain": [
       "0.8348623853211009"
      ]
     },
     "execution_count": 60,
     "metadata": {},
     "output_type": "execute_result"
    }
   ],
   "source": [
    "conf_matrix_ada = confusion_matrix(y_test, y_pred_ada)\n",
    "print(conf_matrix_ada)\n",
    "accuracy_score(y_test, y_pred_ada)"
   ]
  },
  {
   "cell_type": "code",
   "execution_count": 61,
   "metadata": {},
   "outputs": [
    {
     "name": "stdout",
     "output_type": "stream",
     "text": [
      "Cross-validation scores: [0.79816514 0.83486239 0.91743119 0.83333333 0.78703704]\n",
      "Mean accuracy: 0.83\n",
      "Standard Deviation: 0.05\n"
     ]
    }
   ],
   "source": [
    "scores_ada = cross_val_score(classifier_ada, X, y, cv=5)\n",
    "print(\"Cross-validation scores: {}\" . format(scores_ada))\n",
    "print(\"Mean accuracy: {:.2f}\" . format(scores_ada.mean()))\n",
    "print(\"Standard Deviation: {:.2f}\" . format(scores_ada.std()))"
   ]
  },
  {
   "cell_type": "markdown",
   "metadata": {},
   "source": [
    "## 8. XG-Boost"
   ]
  },
  {
   "cell_type": "code",
   "execution_count": 62,
   "metadata": {},
   "outputs": [
    {
     "data": {
      "text/plain": [
       "XGBClassifier(base_score=0.5, booster='gbtree', colsample_bylevel=1,\n",
       "              colsample_bynode=1, colsample_bytree=1, gamma=0, gpu_id=-1,\n",
       "              importance_type='gain', interaction_constraints='',\n",
       "              learning_rate=0.300000012, max_delta_step=0, max_depth=6,\n",
       "              min_child_weight=1, missing=nan, monotone_constraints='()',\n",
       "              n_estimators=100, n_jobs=0, num_parallel_tree=1,\n",
       "              objective='binary:logistic', random_state=0, reg_alpha=0,\n",
       "              reg_lambda=1, scale_pos_weight=1, subsample=1,\n",
       "              tree_method='exact', validate_parameters=1, verbosity=None)"
      ]
     },
     "execution_count": 62,
     "metadata": {},
     "output_type": "execute_result"
    }
   ],
   "source": [
    "from xgboost import XGBClassifier\n",
    "classifier_xg = XGBClassifier()\n",
    "classifier_xg.fit(X_train, y_train)"
   ]
  },
  {
   "cell_type": "code",
   "execution_count": 63,
   "metadata": {},
   "outputs": [
    {
     "name": "stdout",
     "output_type": "stream",
     "text": [
      "[[1 1]\n",
      " [0 0]\n",
      " [0 0]\n",
      " [1 1]\n",
      " [0 0]\n",
      " [1 1]\n",
      " [1 1]\n",
      " [1 1]\n",
      " [1 1]\n",
      " [1 0]\n",
      " [0 0]\n",
      " [0 0]\n",
      " [0 1]\n",
      " [1 0]\n",
      " [0 1]\n",
      " [0 0]\n",
      " [0 0]\n",
      " [1 0]\n",
      " [1 1]\n",
      " [0 0]\n",
      " [1 1]\n",
      " [1 1]\n",
      " [1 1]\n",
      " [1 1]\n",
      " [0 0]\n",
      " [0 0]\n",
      " [0 0]\n",
      " [1 1]\n",
      " [1 1]\n",
      " [0 0]\n",
      " [1 1]\n",
      " [1 1]\n",
      " [0 0]\n",
      " [1 1]\n",
      " [1 1]\n",
      " [0 0]\n",
      " [0 0]\n",
      " [0 1]\n",
      " [0 0]\n",
      " [0 0]\n",
      " [1 1]\n",
      " [0 0]\n",
      " [1 1]\n",
      " [1 1]\n",
      " [1 1]\n",
      " [0 1]\n",
      " [1 0]\n",
      " [1 0]\n",
      " [0 0]\n",
      " [0 0]\n",
      " [1 1]\n",
      " [1 1]\n",
      " [0 1]\n",
      " [0 1]\n",
      " [1 1]\n",
      " [1 1]\n",
      " [0 0]\n",
      " [1 1]\n",
      " [1 1]\n",
      " [1 1]\n",
      " [0 0]\n",
      " [1 1]\n",
      " [0 0]\n",
      " [1 1]\n",
      " [0 0]\n",
      " [0 0]\n",
      " [0 0]\n",
      " [1 1]\n",
      " [1 1]\n",
      " [1 0]\n",
      " [1 1]\n",
      " [1 1]\n",
      " [1 1]\n",
      " [1 1]\n",
      " [0 0]\n",
      " [1 1]\n",
      " [0 0]\n",
      " [1 0]\n",
      " [0 0]\n",
      " [1 1]\n",
      " [1 1]\n",
      " [1 1]\n",
      " [1 1]\n",
      " [1 0]\n",
      " [1 0]\n",
      " [1 1]\n",
      " [1 1]\n",
      " [1 1]\n",
      " [0 0]\n",
      " [1 1]\n",
      " [1 1]\n",
      " [1 1]\n",
      " [1 1]\n",
      " [1 1]\n",
      " [0 0]\n",
      " [0 0]\n",
      " [1 1]\n",
      " [1 1]\n",
      " [1 1]\n",
      " [1 0]\n",
      " [1 1]\n",
      " [1 1]\n",
      " [1 1]\n",
      " [0 0]\n",
      " [0 0]\n",
      " [1 1]\n",
      " [1 1]\n",
      " [0 0]\n",
      " [1 1]]\n"
     ]
    }
   ],
   "source": [
    "y_pred_xg = classifier_xg.predict(X_test)\n",
    "print(np.concatenate((y_pred_xg.reshape(len(y_pred_xg),1), y_test.reshape(len(y_test),1)),1))"
   ]
  },
  {
   "cell_type": "code",
   "execution_count": 64,
   "metadata": {},
   "outputs": [
    {
     "name": "stdout",
     "output_type": "stream",
     "text": [
      "[[2.34361887e-02 9.76563811e-01]\n",
      " [9.29067671e-01 7.09323063e-02]\n",
      " [9.67530847e-01 3.24691832e-02]\n",
      " [1.81527734e-02 9.81847227e-01]\n",
      " [6.79568291e-01 3.20431709e-01]\n",
      " [1.51162148e-02 9.84883785e-01]\n",
      " [1.78104639e-03 9.98218954e-01]\n",
      " [4.00819957e-01 5.99180043e-01]\n",
      " [6.12881184e-02 9.38711882e-01]\n",
      " [2.76939631e-01 7.23060369e-01]\n",
      " [9.38739955e-01 6.12600185e-02]\n",
      " [9.31374192e-01 6.86258376e-02]\n",
      " [5.80521822e-01 4.19478148e-01]\n",
      " [2.95615315e-01 7.04384685e-01]\n",
      " [7.30473936e-01 2.69526064e-01]\n",
      " [9.60907400e-01 3.90926003e-02]\n",
      " [8.34008873e-01 1.65991127e-01]\n",
      " [1.34120584e-02 9.86587942e-01]\n",
      " [1.76948309e-03 9.98230517e-01]\n",
      " [9.95440185e-01 4.55981959e-03]\n",
      " [2.73406506e-04 9.99726593e-01]\n",
      " [3.35526466e-03 9.96644735e-01]\n",
      " [1.81323290e-03 9.98186767e-01]\n",
      " [2.21763849e-02 9.77823615e-01]\n",
      " [9.91674423e-01 8.32555164e-03]\n",
      " [9.81814504e-01 1.81854852e-02]\n",
      " [6.51443243e-01 3.48556787e-01]\n",
      " [3.29810381e-03 9.96701896e-01]\n",
      " [3.12507153e-03 9.96874928e-01]\n",
      " [8.60307336e-01 1.39692664e-01]\n",
      " [1.38408542e-02 9.86159146e-01]\n",
      " [2.54911184e-03 9.97450888e-01]\n",
      " [9.94937837e-01 5.06217126e-03]\n",
      " [3.27250719e-01 6.72749281e-01]\n",
      " [1.53899193e-04 9.99846101e-01]\n",
      " [9.66582894e-01 3.34170759e-02]\n",
      " [5.78781366e-01 4.21218634e-01]\n",
      " [9.53710675e-01 4.62893024e-02]\n",
      " [6.78570747e-01 3.21429223e-01]\n",
      " [8.44872952e-01 1.55127078e-01]\n",
      " [1.76745653e-03 9.98232543e-01]\n",
      " [9.86072719e-01 1.39272874e-02]\n",
      " [3.87012959e-04 9.99612987e-01]\n",
      " [1.04698539e-02 9.89530146e-01]\n",
      " [1.29330158e-03 9.98706698e-01]\n",
      " [9.84697402e-01 1.53025817e-02]\n",
      " [8.68257284e-02 9.13174272e-01]\n",
      " [8.53673816e-02 9.14632618e-01]\n",
      " [9.50689256e-01 4.93107401e-02]\n",
      " [9.95857775e-01 4.14223131e-03]\n",
      " [4.43142653e-03 9.95568573e-01]\n",
      " [2.93910503e-04 9.99706089e-01]\n",
      " [5.73705435e-01 4.26294595e-01]\n",
      " [9.23270762e-01 7.67292231e-02]\n",
      " [6.09159470e-04 9.99390841e-01]\n",
      " [4.03050303e-01 5.96949697e-01]\n",
      " [9.94529128e-01 5.47089335e-03]\n",
      " [2.12967396e-04 9.99787033e-01]\n",
      " [3.64915729e-02 9.63508427e-01]\n",
      " [2.65347958e-03 9.97346520e-01]\n",
      " [9.24173176e-01 7.58268088e-02]\n",
      " [1.07374787e-02 9.89262521e-01]\n",
      " [9.97171223e-01 2.82878778e-03]\n",
      " [2.35420465e-03 9.97645795e-01]\n",
      " [9.36526954e-01 6.34730533e-02]\n",
      " [9.91753936e-01 8.24605115e-03]\n",
      " [8.80800784e-01 1.19199224e-01]\n",
      " [7.09003210e-02 9.29099679e-01]\n",
      " [1.94102526e-03 9.98058975e-01]\n",
      " [1.15414917e-01 8.84585083e-01]\n",
      " [2.13003159e-03 9.97869968e-01]\n",
      " [1.36626363e-02 9.86337364e-01]\n",
      " [9.45627689e-04 9.99054372e-01]\n",
      " [2.71163106e-01 7.28836894e-01]\n",
      " [9.30106401e-01 6.98936060e-02]\n",
      " [2.70742178e-03 9.97292578e-01]\n",
      " [9.94799793e-01 5.20020071e-03]\n",
      " [1.48016930e-01 8.51983070e-01]\n",
      " [9.84966159e-01 1.50338355e-02]\n",
      " [6.99996948e-04 9.99300003e-01]\n",
      " [2.20254660e-02 9.77974534e-01]\n",
      " [5.78117371e-03 9.94218826e-01]\n",
      " [1.36452913e-03 9.98635471e-01]\n",
      " [4.62108135e-01 5.37891865e-01]\n",
      " [4.16758478e-01 5.83241522e-01]\n",
      " [3.81030440e-02 9.61896956e-01]\n",
      " [1.15849316e-01 8.84150684e-01]\n",
      " [9.82773304e-03 9.90172267e-01]\n",
      " [9.43668962e-01 5.63310608e-02]\n",
      " [1.22666359e-04 9.99877334e-01]\n",
      " [3.03030014e-04 9.99696970e-01]\n",
      " [8.57114792e-05 9.99914289e-01]\n",
      " [1.01100206e-02 9.89889979e-01]\n",
      " [2.49400139e-02 9.75059986e-01]\n",
      " [9.97078359e-01 2.92165857e-03]\n",
      " [7.02309251e-01 2.97690779e-01]\n",
      " [1.38473511e-03 9.98615265e-01]\n",
      " [1.13928318e-03 9.98860717e-01]\n",
      " [1.00332499e-03 9.98996675e-01]\n",
      " [1.66164041e-02 9.83383596e-01]\n",
      " [1.48854852e-01 8.51145148e-01]\n",
      " [7.95304775e-04 9.99204695e-01]\n",
      " [5.89489937e-04 9.99410510e-01]\n",
      " [9.82204139e-01 1.77958533e-02]\n",
      " [9.79107857e-01 2.08921358e-02]\n",
      " [5.70750237e-03 9.94292498e-01]\n",
      " [2.89976597e-04 9.99710023e-01]\n",
      " [9.87254322e-01 1.27456989e-02]\n",
      " [1.00463629e-03 9.98995364e-01]]\n"
     ]
    }
   ],
   "source": [
    "y_prob_xg = classifier_xg.predict_proba(X_test)\n",
    "print(y_prob_xg)"
   ]
  },
  {
   "cell_type": "code",
   "execution_count": 65,
   "metadata": {},
   "outputs": [
    {
     "name": "stdout",
     "output_type": "stream",
     "text": [
      "[[36  9]\n",
      " [ 9 55]]\n"
     ]
    },
    {
     "data": {
      "text/plain": [
       "0.8532110091743119"
      ]
     },
     "execution_count": 65,
     "metadata": {},
     "output_type": "execute_result"
    }
   ],
   "source": [
    "conf_matrix_xg = confusion_matrix(y_test, y_pred_ada)\n",
    "print(conf_matrix_xg)\n",
    "accuracy_score(y_test, y_pred_xg)"
   ]
  },
  {
   "cell_type": "code",
   "execution_count": 66,
   "metadata": {},
   "outputs": [
    {
     "name": "stdout",
     "output_type": "stream",
     "text": [
      "Cross-validation scores: [0.77981651 0.85321101 0.89908257 0.86111111 0.80555556]\n",
      "Mean accuracy: 0.84\n",
      "Standard Deviation: 0.04\n"
     ]
    }
   ],
   "source": [
    "scores_xg = cross_val_score(classifier_xg, X, y, cv=5)\n",
    "print(\"Cross-validation scores: {}\" . format(scores_xg))\n",
    "print(\"Mean accuracy: {:.2f}\" . format(scores_xg.mean()))\n",
    "print(\"Standard Deviation: {:.2f}\" . format(scores_xg.std()))"
   ]
  },
  {
   "cell_type": "markdown",
   "metadata": {},
   "source": [
    "## 9. Random Forest"
   ]
  },
  {
   "cell_type": "code",
   "execution_count": 67,
   "metadata": {},
   "outputs": [
    {
     "data": {
      "text/plain": [
       "RandomForestClassifier(bootstrap=True, class_weight=None, criterion='entropy',\n",
       "                       max_depth=None, max_features='auto', max_leaf_nodes=None,\n",
       "                       min_impurity_decrease=0.0, min_impurity_split=None,\n",
       "                       min_samples_leaf=1, min_samples_split=2,\n",
       "                       min_weight_fraction_leaf=0.0, n_estimators=100,\n",
       "                       n_jobs=None, oob_score=False, random_state=100,\n",
       "                       verbose=0, warm_start=False)"
      ]
     },
     "execution_count": 67,
     "metadata": {},
     "output_type": "execute_result"
    }
   ],
   "source": [
    "from sklearn.ensemble import RandomForestClassifier\n",
    "classifier_rf = RandomForestClassifier(n_estimators = 100, criterion = 'entropy', random_state = 100)\n",
    "classifier_rf.fit(X_train, y_train)"
   ]
  },
  {
   "cell_type": "code",
   "execution_count": 68,
   "metadata": {},
   "outputs": [
    {
     "name": "stdout",
     "output_type": "stream",
     "text": [
      "[[1 1]\n",
      " [0 0]\n",
      " [0 0]\n",
      " [0 1]\n",
      " [0 0]\n",
      " [1 1]\n",
      " [1 1]\n",
      " [1 1]\n",
      " [0 1]\n",
      " [0 0]\n",
      " [0 0]\n",
      " [0 0]\n",
      " [1 1]\n",
      " [0 0]\n",
      " [0 1]\n",
      " [0 0]\n",
      " [0 0]\n",
      " [1 0]\n",
      " [1 1]\n",
      " [0 0]\n",
      " [1 1]\n",
      " [1 1]\n",
      " [1 1]\n",
      " [1 1]\n",
      " [0 0]\n",
      " [0 0]\n",
      " [0 0]\n",
      " [1 1]\n",
      " [1 1]\n",
      " [0 0]\n",
      " [1 1]\n",
      " [1 1]\n",
      " [0 0]\n",
      " [0 1]\n",
      " [1 1]\n",
      " [0 0]\n",
      " [0 0]\n",
      " [0 1]\n",
      " [0 0]\n",
      " [0 0]\n",
      " [1 1]\n",
      " [0 0]\n",
      " [1 1]\n",
      " [1 1]\n",
      " [1 1]\n",
      " [0 1]\n",
      " [1 0]\n",
      " [0 0]\n",
      " [0 0]\n",
      " [0 0]\n",
      " [1 1]\n",
      " [1 1]\n",
      " [0 1]\n",
      " [0 1]\n",
      " [1 1]\n",
      " [1 1]\n",
      " [0 0]\n",
      " [1 1]\n",
      " [1 1]\n",
      " [1 1]\n",
      " [0 0]\n",
      " [1 1]\n",
      " [0 0]\n",
      " [1 1]\n",
      " [0 0]\n",
      " [0 0]\n",
      " [0 0]\n",
      " [1 1]\n",
      " [1 1]\n",
      " [0 0]\n",
      " [1 1]\n",
      " [1 1]\n",
      " [1 1]\n",
      " [0 1]\n",
      " [0 0]\n",
      " [1 1]\n",
      " [0 0]\n",
      " [0 0]\n",
      " [0 0]\n",
      " [1 1]\n",
      " [1 1]\n",
      " [1 1]\n",
      " [1 1]\n",
      " [1 0]\n",
      " [0 0]\n",
      " [1 1]\n",
      " [1 1]\n",
      " [1 1]\n",
      " [0 0]\n",
      " [1 1]\n",
      " [1 1]\n",
      " [1 1]\n",
      " [1 1]\n",
      " [1 1]\n",
      " [0 0]\n",
      " [0 0]\n",
      " [1 1]\n",
      " [1 1]\n",
      " [1 1]\n",
      " [0 0]\n",
      " [1 1]\n",
      " [1 1]\n",
      " [1 1]\n",
      " [0 0]\n",
      " [0 0]\n",
      " [1 1]\n",
      " [1 1]\n",
      " [0 0]\n",
      " [1 1]]\n"
     ]
    }
   ],
   "source": [
    "y_pred_rf = classifier_rf.predict(X_test)\n",
    "print(np.concatenate((y_pred_rf.reshape(len(y_pred_rf),1), y_test.reshape(len(y_test),1)),1))"
   ]
  },
  {
   "cell_type": "code",
   "execution_count": 69,
   "metadata": {},
   "outputs": [
    {
     "name": "stdout",
     "output_type": "stream",
     "text": [
      "[[0.   1.  ]\n",
      " [0.72 0.28]\n",
      " [0.83 0.17]\n",
      " [0.62 0.38]\n",
      " [0.7  0.3 ]\n",
      " [0.   1.  ]\n",
      " [0.   1.  ]\n",
      " [0.13 0.87]\n",
      " [0.56 0.44]\n",
      " [0.67 0.33]\n",
      " [0.83 0.17]\n",
      " [0.7  0.3 ]\n",
      " [0.3  0.7 ]\n",
      " [0.7  0.3 ]\n",
      " [0.69 0.31]\n",
      " [0.7  0.3 ]\n",
      " [0.58 0.42]\n",
      " [0.33 0.67]\n",
      " [0.   1.  ]\n",
      " [0.88 0.12]\n",
      " [0.   1.  ]\n",
      " [0.03 0.97]\n",
      " [0.   1.  ]\n",
      " [0.32 0.68]\n",
      " [0.88 0.12]\n",
      " [0.92 0.08]\n",
      " [0.65 0.35]\n",
      " [0.01 0.99]\n",
      " [0.   1.  ]\n",
      " [0.66 0.34]\n",
      " [0.13 0.87]\n",
      " [0.01 0.99]\n",
      " [0.94 0.06]\n",
      " [0.59 0.41]\n",
      " [0.   1.  ]\n",
      " [0.76 0.24]\n",
      " [0.59 0.41]\n",
      " [0.51 0.49]\n",
      " [0.51 0.49]\n",
      " [0.7  0.3 ]\n",
      " [0.   1.  ]\n",
      " [0.91 0.09]\n",
      " [0.01 0.99]\n",
      " [0.14 0.86]\n",
      " [0.   1.  ]\n",
      " [0.74 0.26]\n",
      " [0.37 0.63]\n",
      " [0.5  0.5 ]\n",
      " [0.81 0.19]\n",
      " [0.86 0.14]\n",
      " [0.08 0.92]\n",
      " [0.   1.  ]\n",
      " [0.6  0.4 ]\n",
      " [0.75 0.25]\n",
      " [0.   1.  ]\n",
      " [0.12 0.88]\n",
      " [0.89 0.11]\n",
      " [0.   1.  ]\n",
      " [0.44 0.56]\n",
      " [0.   1.  ]\n",
      " [0.83 0.17]\n",
      " [0.02 0.98]\n",
      " [0.89 0.11]\n",
      " [0.   1.  ]\n",
      " [0.83 0.17]\n",
      " [0.83 0.17]\n",
      " [0.7  0.3 ]\n",
      " [0.13 0.87]\n",
      " [0.   1.  ]\n",
      " [0.7  0.3 ]\n",
      " [0.   1.  ]\n",
      " [0.08 0.92]\n",
      " [0.02 0.98]\n",
      " [0.71 0.29]\n",
      " [0.62 0.38]\n",
      " [0.22 0.78]\n",
      " [0.91 0.09]\n",
      " [0.56 0.44]\n",
      " [0.96 0.04]\n",
      " [0.   1.  ]\n",
      " [0.02 0.98]\n",
      " [0.   1.  ]\n",
      " [0.02 0.98]\n",
      " [0.46 0.54]\n",
      " [0.64 0.36]\n",
      " [0.16 0.84]\n",
      " [0.3  0.7 ]\n",
      " [0.04 0.96]\n",
      " [0.71 0.29]\n",
      " [0.   1.  ]\n",
      " [0.   1.  ]\n",
      " [0.   1.  ]\n",
      " [0.12 0.88]\n",
      " [0.16 0.84]\n",
      " [0.87 0.13]\n",
      " [0.67 0.33]\n",
      " [0.   1.  ]\n",
      " [0.   1.  ]\n",
      " [0.02 0.98]\n",
      " [0.52 0.48]\n",
      " [0.3  0.7 ]\n",
      " [0.01 0.99]\n",
      " [0.02 0.98]\n",
      " [0.82 0.18]\n",
      " [0.78 0.22]\n",
      " [0.01 0.99]\n",
      " [0.   1.  ]\n",
      " [0.9  0.1 ]\n",
      " [0.   1.  ]]\n"
     ]
    }
   ],
   "source": [
    "y_prob_rf = classifier_rf.predict_proba(X_test)\n",
    "print(y_prob_rf)"
   ]
  },
  {
   "cell_type": "code",
   "execution_count": 70,
   "metadata": {},
   "outputs": [
    {
     "name": "stdout",
     "output_type": "stream",
     "text": [
      "[[42  3]\n",
      " [ 9 55]]\n"
     ]
    },
    {
     "data": {
      "text/plain": [
       "0.8899082568807339"
      ]
     },
     "execution_count": 70,
     "metadata": {},
     "output_type": "execute_result"
    }
   ],
   "source": [
    "conf_matrix_rf = confusion_matrix(y_test, y_pred_rf)\n",
    "print(conf_matrix_rf)\n",
    "accuracy_score(y_test, y_pred_rf)"
   ]
  },
  {
   "cell_type": "code",
   "execution_count": 71,
   "metadata": {},
   "outputs": [
    {
     "name": "stdout",
     "output_type": "stream",
     "text": [
      "Cross-validation scores: [0.8440367  0.88990826 0.89908257 0.87037037 0.81481481]\n",
      "Mean accuracy: 0.86\n",
      "Standard Deviation: 0.03\n"
     ]
    }
   ],
   "source": [
    "scores_rf = cross_val_score(classifier_rf, X, y, cv=5)\n",
    "print(\"Cross-validation scores: {}\" . format(scores_rf))\n",
    "print(\"Mean accuracy: {:.2f}\" . format(scores_rf.mean()))\n",
    "print(\"Standard Deviation: {:.2f}\" . format(scores_rf.std()))"
   ]
  },
  {
   "cell_type": "markdown",
   "metadata": {},
   "source": [
    "# Finding out the model with best cross-validation accuracy score"
   ]
  },
  {
   "cell_type": "code",
   "execution_count": 72,
   "metadata": {},
   "outputs": [],
   "source": [
    "score_test_diff_model = {'Logistic':scores_logis.mean(), 'SVM':scores_svm.mean(), 'Kernel_SVM':scores_ksvm.mean(), 'Naive_Bayes':scores_nb.mean(), 'Decision_Tree':scores_DT.mean(), 'Bagging':scores_bag.mean(), 'AdaBoost':scores_ada.mean(), 'XGBoost':scores_xg.mean(), 'Random_Forest':scores_rf.mean()}"
   ]
  },
  {
   "cell_type": "code",
   "execution_count": 73,
   "metadata": {},
   "outputs": [
    {
     "name": "stdout",
     "output_type": "stream",
     "text": [
      "The mean cross-validation score for different model :\n",
      "\n",
      " {'Logistic': 0.8121134896364254, 'SVM': 0.8231566428814135, 'Kernel_SVM': 0.8360176690451919, 'Naive_Bayes': 0.8469758749575262, 'Decision_Tree': 0.8562691131498472, 'Bagging': 0.867329255861366, 'AdaBoost': 0.8341658171933402, 'XGBoost': 0.8397553516819573, 'Random_Forest': 0.8636425416241928}\n"
     ]
    }
   ],
   "source": [
    "print(\"The mean cross-validation score for different model :\\n\\n\", score_test_diff_model)"
   ]
  },
  {
   "cell_type": "code",
   "execution_count": 74,
   "metadata": {},
   "outputs": [
    {
     "name": "stdout",
     "output_type": "stream",
     "text": [
      "The model Bagging has the highest accuracy score of : 0.867329255861366\n"
     ]
    }
   ],
   "source": [
    "max_score = max(score_test_diff_model.values())\n",
    "model_max_score = max(score_test_diff_model, key=score_test_diff_model.get) \n",
    "print(\"The model\", model_max_score,\"has the highest accuracy score of :\", max_score) "
   ]
  },
  {
   "cell_type": "markdown",
   "metadata": {},
   "source": [
    "# Fitting the model with best accuracy score on the Test Dataset to predict"
   ]
  },
  {
   "cell_type": "markdown",
   "metadata": {},
   "source": [
    "## Predicted Value"
   ]
  },
  {
   "cell_type": "code",
   "execution_count": 75,
   "metadata": {},
   "outputs": [
    {
     "name": "stdout",
     "output_type": "stream",
     "text": [
      "[1 1 0 1 1 0 0 0 1 1 1 0 0 0 1 0 1 0 1 1 0 0 1 0 0 1 1 1 1 0 0 1 1 1 0 0 1\n",
      " 0 0 0 1 0 0 0 1 0 0 1 1 1 1 1 0 1 0 0 1 0 0 1 0 0 1 1 0 0 1 0 1 0 0 1 1 1\n",
      " 0 1 1 1 0 1 1 1 1 0 0 0 1 0 0 0 0 1 1 0 1 1 0 0 0 1 0 0 1 1 0 1 0 1 0 1 0\n",
      " 1 1 0 0 1 1 1 1 1 1 1 0 0 0 1 0 1 1 1 0 0 0 0 1 1 1 1 0 0 1 0 1 1 0 1 1 1\n",
      " 0 0 1 0 0 0 0 0 1 1 1 1 1 0 0 0 1 1 1 1 1 0 1 1 1 0 0 1 1 1 1 1 1 1 1 1 0\n",
      " 0 1 1 1 1 0 0 1 1 1 1 0 1 1 0 1 0 1 1 1 0 1 1 0 1 1 1 0 1 0 1 0 1 0 0 0 1\n",
      " 0 1 1 1 0 1 0 1 1 1 0]\n"
     ]
    }
   ],
   "source": [
    "y_pred_new_bag = classifier_bag.predict(X_test_new)\n",
    "print(y_pred_new_bag)"
   ]
  },
  {
   "cell_type": "markdown",
   "metadata": {},
   "source": [
    "## Probability"
   ]
  },
  {
   "cell_type": "code",
   "execution_count": 76,
   "metadata": {},
   "outputs": [
    {
     "name": "stdout",
     "output_type": "stream",
     "text": [
      "[[0.00000000e+00 1.00000000e+00]\n",
      " [1.66950804e-01 8.33049196e-01]\n",
      " [8.82905440e-01 1.17094560e-01]\n",
      " [0.00000000e+00 1.00000000e+00]\n",
      " [2.38728061e-01 7.61271939e-01]\n",
      " [6.17534959e-01 3.82465041e-01]\n",
      " [9.30103706e-01 6.98962942e-02]\n",
      " [8.95646738e-01 1.04353262e-01]\n",
      " [1.82026934e-01 8.17973066e-01]\n",
      " [0.00000000e+00 1.00000000e+00]\n",
      " [0.00000000e+00 1.00000000e+00]\n",
      " [8.98421065e-01 1.01578935e-01]\n",
      " [5.16038432e-01 4.83961568e-01]\n",
      " [6.90441819e-01 3.09558181e-01]\n",
      " [1.35073529e-02 9.86492647e-01]\n",
      " [8.50777067e-01 1.49222933e-01]\n",
      " [3.15146057e-01 6.84853943e-01]\n",
      " [7.64575063e-01 2.35424937e-01]\n",
      " [4.81838468e-01 5.18161532e-01]\n",
      " [0.00000000e+00 1.00000000e+00]\n",
      " [6.56332916e-01 3.43667084e-01]\n",
      " [5.17969239e-01 4.82030761e-01]\n",
      " [1.57622866e-01 8.42377134e-01]\n",
      " [8.76788851e-01 1.23211149e-01]\n",
      " [7.56565411e-01 2.43434589e-01]\n",
      " [4.76190476e-04 9.99523810e-01]\n",
      " [1.98882568e-01 8.01117432e-01]\n",
      " [0.00000000e+00 1.00000000e+00]\n",
      " [0.00000000e+00 1.00000000e+00]\n",
      " [9.04212821e-01 9.57871791e-02]\n",
      " [5.56118926e-01 4.43881074e-01]\n",
      " [0.00000000e+00 1.00000000e+00]\n",
      " [0.00000000e+00 1.00000000e+00]\n",
      " [0.00000000e+00 1.00000000e+00]\n",
      " [8.26330427e-01 1.73669573e-01]\n",
      " [8.56043658e-01 1.43956342e-01]\n",
      " [0.00000000e+00 1.00000000e+00]\n",
      " [7.21932382e-01 2.78067618e-01]\n",
      " [8.52869082e-01 1.47130918e-01]\n",
      " [8.37939889e-01 1.62060111e-01]\n",
      " [0.00000000e+00 1.00000000e+00]\n",
      " [6.40443177e-01 3.59556823e-01]\n",
      " [5.01853372e-01 4.98146628e-01]\n",
      " [8.02997693e-01 1.97002307e-01]\n",
      " [0.00000000e+00 1.00000000e+00]\n",
      " [6.07626082e-01 3.92373918e-01]\n",
      " [8.34139466e-01 1.65860534e-01]\n",
      " [0.00000000e+00 1.00000000e+00]\n",
      " [0.00000000e+00 1.00000000e+00]\n",
      " [1.95422229e-01 8.04577771e-01]\n",
      " [0.00000000e+00 1.00000000e+00]\n",
      " [0.00000000e+00 1.00000000e+00]\n",
      " [7.56627207e-01 2.43372793e-01]\n",
      " [8.53174603e-03 9.91468254e-01]\n",
      " [7.23061704e-01 2.76938296e-01]\n",
      " [8.18646125e-01 1.81353875e-01]\n",
      " [0.00000000e+00 1.00000000e+00]\n",
      " [5.57548249e-01 4.42451751e-01]\n",
      " [8.24162307e-01 1.75837693e-01]\n",
      " [4.66729022e-01 5.33270978e-01]\n",
      " [6.97415862e-01 3.02584138e-01]\n",
      " [8.38223159e-01 1.61776841e-01]\n",
      " [3.54202276e-01 6.45797724e-01]\n",
      " [1.80348394e-01 8.19651606e-01]\n",
      " [5.82440079e-01 4.17559921e-01]\n",
      " [7.28042993e-01 2.71957007e-01]\n",
      " [0.00000000e+00 1.00000000e+00]\n",
      " [5.97519360e-01 4.02480640e-01]\n",
      " [3.55434509e-01 6.44565491e-01]\n",
      " [7.01745662e-01 2.98254338e-01]\n",
      " [5.42851525e-01 4.57148475e-01]\n",
      " [0.00000000e+00 1.00000000e+00]\n",
      " [0.00000000e+00 1.00000000e+00]\n",
      " [0.00000000e+00 1.00000000e+00]\n",
      " [5.31031008e-01 4.68968992e-01]\n",
      " [4.76190476e-04 9.99523810e-01]\n",
      " [3.76860445e-01 6.23139555e-01]\n",
      " [0.00000000e+00 1.00000000e+00]\n",
      " [8.47928945e-01 1.52071055e-01]\n",
      " [0.00000000e+00 1.00000000e+00]\n",
      " [0.00000000e+00 1.00000000e+00]\n",
      " [1.56745637e-01 8.43254363e-01]\n",
      " [1.90904393e-01 8.09095607e-01]\n",
      " [8.50543791e-01 1.49456209e-01]\n",
      " [7.37953973e-01 2.62046027e-01]\n",
      " [9.67221171e-01 3.27788294e-02]\n",
      " [0.00000000e+00 1.00000000e+00]\n",
      " [5.31212128e-01 4.68787872e-01]\n",
      " [6.34761411e-01 3.65238589e-01]\n",
      " [6.46690553e-01 3.53309447e-01]\n",
      " [8.60019490e-01 1.39980510e-01]\n",
      " [1.57982866e-01 8.42017134e-01]\n",
      " [0.00000000e+00 1.00000000e+00]\n",
      " [8.61774648e-01 1.38225352e-01]\n",
      " [0.00000000e+00 1.00000000e+00]\n",
      " [0.00000000e+00 1.00000000e+00]\n",
      " [7.24302043e-01 2.75697957e-01]\n",
      " [7.91554977e-01 2.08445023e-01]\n",
      " [6.94581081e-01 3.05418919e-01]\n",
      " [0.00000000e+00 1.00000000e+00]\n",
      " [6.38993965e-01 3.61006035e-01]\n",
      " [8.93005111e-01 1.06994889e-01]\n",
      " [0.00000000e+00 1.00000000e+00]\n",
      " [1.56725050e-01 8.43274950e-01]\n",
      " [5.95396771e-01 4.04603229e-01]\n",
      " [0.00000000e+00 1.00000000e+00]\n",
      " [5.75780930e-01 4.24219070e-01]\n",
      " [0.00000000e+00 1.00000000e+00]\n",
      " [6.68828732e-01 3.31171268e-01]\n",
      " [0.00000000e+00 1.00000000e+00]\n",
      " [7.83369388e-01 2.16630612e-01]\n",
      " [2.54917980e-01 7.45082020e-01]\n",
      " [1.80267050e-01 8.19732950e-01]\n",
      " [9.49252686e-01 5.07473144e-02]\n",
      " [6.01089842e-01 3.98910158e-01]\n",
      " [1.66295724e-01 8.33704276e-01]\n",
      " [0.00000000e+00 1.00000000e+00]\n",
      " [1.46819439e-01 8.53180561e-01]\n",
      " [3.58818479e-02 9.64118152e-01]\n",
      " [0.00000000e+00 1.00000000e+00]\n",
      " [4.72517697e-01 5.27482303e-01]\n",
      " [0.00000000e+00 1.00000000e+00]\n",
      " [8.80570855e-01 1.19429145e-01]\n",
      " [9.06947505e-01 9.30524946e-02]\n",
      " [8.24521914e-01 1.75478086e-01]\n",
      " [0.00000000e+00 1.00000000e+00]\n",
      " [5.82559027e-01 4.17440973e-01]\n",
      " [0.00000000e+00 1.00000000e+00]\n",
      " [0.00000000e+00 1.00000000e+00]\n",
      " [0.00000000e+00 1.00000000e+00]\n",
      " [6.29265254e-01 3.70734746e-01]\n",
      " [8.09300009e-01 1.90699991e-01]\n",
      " [9.10314847e-01 8.96851531e-02]\n",
      " [8.29769646e-01 1.70230354e-01]\n",
      " [0.00000000e+00 1.00000000e+00]\n",
      " [0.00000000e+00 1.00000000e+00]\n",
      " [0.00000000e+00 1.00000000e+00]\n",
      " [4.40333645e-01 5.59666355e-01]\n",
      " [9.10377460e-01 8.96225397e-02]\n",
      " [5.79161733e-01 4.20838267e-01]\n",
      " [4.76190476e-04 9.99523810e-01]\n",
      " [5.13493402e-01 4.86506598e-01]\n",
      " [0.00000000e+00 1.00000000e+00]\n",
      " [2.05774954e-01 7.94225046e-01]\n",
      " [8.86417803e-01 1.13582197e-01]\n",
      " [6.29009106e-02 9.37099089e-01]\n",
      " [0.00000000e+00 1.00000000e+00]\n",
      " [0.00000000e+00 1.00000000e+00]\n",
      " [5.85015831e-01 4.14984169e-01]\n",
      " [7.55376398e-01 2.44623602e-01]\n",
      " [0.00000000e+00 1.00000000e+00]\n",
      " [6.04789165e-01 3.95210835e-01]\n",
      " [7.27825977e-01 2.72174023e-01]\n",
      " [8.05810919e-01 1.94189081e-01]\n",
      " [5.20211817e-01 4.79788183e-01]\n",
      " [6.14277411e-01 3.85722589e-01]\n",
      " [3.91863471e-01 6.08136529e-01]\n",
      " [0.00000000e+00 1.00000000e+00]\n",
      " [1.64456363e-01 8.35543637e-01]\n",
      " [0.00000000e+00 1.00000000e+00]\n",
      " [0.00000000e+00 1.00000000e+00]\n",
      " [8.28597919e-01 1.71402081e-01]\n",
      " [8.60523277e-01 1.39476723e-01]\n",
      " [5.62925098e-01 4.37074902e-01]\n",
      " [0.00000000e+00 1.00000000e+00]\n",
      " [3.26083915e-01 6.73916085e-01]\n",
      " [4.54408174e-01 5.45591826e-01]\n",
      " [0.00000000e+00 1.00000000e+00]\n",
      " [0.00000000e+00 1.00000000e+00]\n",
      " [7.79535682e-01 2.20464318e-01]\n",
      " [0.00000000e+00 1.00000000e+00]\n",
      " [0.00000000e+00 1.00000000e+00]\n",
      " [0.00000000e+00 1.00000000e+00]\n",
      " [8.18004222e-01 1.81995778e-01]\n",
      " [5.19704304e-01 4.80295696e-01]\n",
      " [3.79339315e-02 9.62066069e-01]\n",
      " [3.90798029e-01 6.09201971e-01]\n",
      " [0.00000000e+00 1.00000000e+00]\n",
      " [2.16571378e-01 7.83428622e-01]\n",
      " [0.00000000e+00 1.00000000e+00]\n",
      " [0.00000000e+00 1.00000000e+00]\n",
      " [1.75050219e-01 8.24949781e-01]\n",
      " [0.00000000e+00 1.00000000e+00]\n",
      " [4.99642545e-01 5.00357455e-01]\n",
      " [8.66231162e-01 1.33768838e-01]\n",
      " [6.99161333e-01 3.00838667e-01]\n",
      " [0.00000000e+00 1.00000000e+00]\n",
      " [0.00000000e+00 1.00000000e+00]\n",
      " [0.00000000e+00 1.00000000e+00]\n",
      " [2.29672764e-01 7.70327236e-01]\n",
      " [9.16281226e-01 8.37187744e-02]\n",
      " [6.96614016e-01 3.03385984e-01]\n",
      " [1.77657438e-01 8.22342562e-01]\n",
      " [0.00000000e+00 1.00000000e+00]\n",
      " [0.00000000e+00 1.00000000e+00]\n",
      " [0.00000000e+00 1.00000000e+00]\n",
      " [6.18048467e-01 3.81951533e-01]\n",
      " [0.00000000e+00 1.00000000e+00]\n",
      " [0.00000000e+00 1.00000000e+00]\n",
      " [7.59820671e-01 2.40179329e-01]\n",
      " [0.00000000e+00 1.00000000e+00]\n",
      " [7.31373648e-01 2.68626352e-01]\n",
      " [9.70053476e-03 9.90299465e-01]\n",
      " [0.00000000e+00 1.00000000e+00]\n",
      " [0.00000000e+00 1.00000000e+00]\n",
      " [7.30586484e-01 2.69413516e-01]\n",
      " [3.13233664e-01 6.86766336e-01]\n",
      " [7.71217279e-02 9.22878272e-01]\n",
      " [7.27691623e-01 2.72308377e-01]\n",
      " [0.00000000e+00 1.00000000e+00]\n",
      " [4.05550526e-01 5.94449474e-01]\n",
      " [0.00000000e+00 1.00000000e+00]\n",
      " [5.63820744e-01 4.36179256e-01]\n",
      " [0.00000000e+00 1.00000000e+00]\n",
      " [8.07644487e-01 1.92355513e-01]\n",
      " [0.00000000e+00 1.00000000e+00]\n",
      " [7.93119754e-01 2.06880246e-01]\n",
      " [3.60812347e-01 6.39187653e-01]\n",
      " [5.69037832e-01 4.30962168e-01]\n",
      " [9.08753912e-01 9.12460884e-02]\n",
      " [5.71675275e-01 4.28324725e-01]\n",
      " [4.35664681e-01 5.64335319e-01]\n",
      " [8.80729662e-01 1.19270338e-01]\n",
      " [4.28108831e-01 5.71891169e-01]\n",
      " [0.00000000e+00 1.00000000e+00]\n",
      " [1.69243088e-01 8.30756912e-01]\n",
      " [6.33290241e-01 3.66709759e-01]\n",
      " [0.00000000e+00 1.00000000e+00]\n",
      " [8.13995815e-01 1.86004185e-01]\n",
      " [3.19136359e-01 6.80863641e-01]\n",
      " [4.65997126e-01 5.34002874e-01]\n",
      " [0.00000000e+00 1.00000000e+00]\n",
      " [8.15606652e-01 1.84393348e-01]]\n"
     ]
    }
   ],
   "source": [
    "y_prob_new_bag = classifier_bag.predict_proba(X_test_new)\n",
    "print(y_prob_new_bag)"
   ]
  },
  {
   "cell_type": "markdown",
   "metadata": {},
   "source": [
    "# --------------------------------------------------------------------------------------------------------------"
   ]
  }
 ],
 "metadata": {
  "kernelspec": {
   "display_name": "Python 3",
   "language": "python",
   "name": "python3"
  },
  "language_info": {
   "codemirror_mode": {
    "name": "ipython",
    "version": 3
   },
   "file_extension": ".py",
   "mimetype": "text/x-python",
   "name": "python",
   "nbconvert_exporter": "python",
   "pygments_lexer": "ipython3",
   "version": "3.7.4"
  }
 },
 "nbformat": 4,
 "nbformat_minor": 2
}
